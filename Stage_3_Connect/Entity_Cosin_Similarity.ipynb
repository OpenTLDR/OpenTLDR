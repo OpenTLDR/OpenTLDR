{
    "cells": [
        {
            "attachments": {},
            "cell_type": "markdown",
            "id": "22652f6a-3d56-4a25-9c2c-7d149882e084",
            "metadata": {},
            "source": [
                "# Stage 3: Entity Cosin Similarity\n",
                " \n",
                "This notebook attempts to resolve what the Entities mentioned in the Content and Requests nodes with the Reference Data Objects.\n",
                "\n",
                "The result of this step includes:\n",
                "- Existing Entity nodes connected to ReferenceNodes with a REFERS_TO relationship\n",
                "- New ReferenceNodes (with Hypothesized==True)"
            ]
        },
        {
            "cell_type": "code",
            "execution_count": null,
            "id": "173be13b-5f0b-45e1-8438-571e3f09b28a",
            "metadata": {
                "tags": []
            },
            "outputs": [],
            "source": [
                "import logging"
            ]
        },
        {
            "cell_type": "markdown",
            "id": "547afed3",
            "metadata": {},
            "source": [
                "## Parameters\n",
                "OpenTLDR workflows use the notebook block tagged as \"parameters\" to inject variables (for example to use different embedding models).\n",
                "\n",
                "> **Do Not Change Variable Names in the Parameters Block** you are welcome to change the values of these parameter variables, but please do not change their names. They are used elsewhere in the notebook and in other workflow processes."
            ]
        },
        {
            "cell_type": "code",
            "execution_count": null,
            "id": "a7a37381",
            "metadata": {
                "tags": [
                    "parameters"
                ]
            },
            "outputs": [],
            "source": [
                "#Parameters\n",
                "sentence_embedding_model = \"sentence-transformers/all-MiniLM-L6-v2\"\n",
                "\n",
                "# The Connect Threshold sets when an active data entity refers to a reference data object.\n",
                "# This only effects how similar text is to KNOWN entities of the same type as detected in NER.\n",
                "connect_threshold = 0.25\n",
                "\n",
                "# The Hypothesize Threshold sets how similar previously unknown active data entities need to be to invent reference data.\n",
                "hypothesize_threshold = 0.9\n",
                "\n",
                "# Standard Parameters \n",
                "\n",
                "# Logging level ranges are (from least to most verbose): ERROR, WARN, INFO, DEBUG\n",
                "logging_level = logging.INFO\n",
                "\n",
                "# level of unnecessary output\n",
                "verbose = True\n"
            ]
        },
        {
            "cell_type": "markdown",
            "id": "b770cf6f",
            "metadata": {},
            "source": [
                "## Setup OpenTLDR\n"
            ]
        },
        {
            "cell_type": "code",
            "execution_count": null,
            "id": "245c2780",
            "metadata": {},
            "outputs": [],
            "source": [
                "logging.getLogger(\"OpenTLDR\").setLevel(logging_level)\n",
                "\n",
                "from opentldr.Domain import Entity, ReferenceNode\n",
                "from opentldr import KnowledgeGraph\n",
                "\n",
                "kg=KnowledgeGraph()"
            ]
        },
        {
            "cell_type": "markdown",
            "id": "eddf0266",
            "metadata": {},
            "source": [
                "## Cosin Similarity of Semantic Embedding\n",
                "- Takes two string and computes each of their embeddings\n",
                "- Computes the cosin distance between the two embeddings\n",
                "- Returns this distance (which is 0-1) as a similarity metrics"
            ]
        },
        {
            "cell_type": "code",
            "execution_count": null,
            "id": "027e73b5",
            "metadata": {},
            "outputs": [],
            "source": [
                "# Note: on a mac I needed to install this on the commandline\n",
                "#!{sys.executable} -m pip install -U sentence-transformers\n",
                "\n",
                "from sentence_transformers import SentenceTransformer, util\n",
                "model = SentenceTransformer(sentence_embedding_model)\n",
                "\n",
                "embedding_cache = {}\n",
                "\n",
                "def cached_cosin_similarity(node_1, node_2):\n",
                "\n",
                "        string_1 = node_1.text\n",
                "        embedding_1 = None\n",
                "        string_2 = node_2.text\n",
                "        embedding_2 = None\n",
                "\n",
                "        if string_1 == string_2:\n",
                "                return 1.0\n",
                "\n",
                "        if node_1.uid in embedding_cache:\n",
                "                embedding_1 = embedding_cache[node_1.uid]\n",
                "        else:\n",
                "                embedding_1= model.encode(string_1, convert_to_tensor=True)\n",
                "                embedding_cache[node_1.uid]=embedding_1\n",
                "\n",
                "        if node_2.uid in embedding_cache:\n",
                "                embedding_2 = embedding_cache[node_2.uid]\n",
                "        else:\n",
                "                embedding_2= model.encode(string_2, convert_to_tensor=True)\n",
                "                embedding_cache[node_2.uid]=embedding_2\n",
                "\n",
                "        #compute the cosin similarity of the two embeddings\n",
                "        similarity = util.cos_sim(embedding_1, embedding_2).cpu().numpy()[0][0]\n",
                "\n",
                "        return round(similarity,4)\n",
                "\n",
                "\n",
                "\n",
                "def cosin_similarity(string_1:str, string_2:str):\n",
                "        if string_1 == string_2:\n",
                "                return 1.0\n",
                "\n",
                "        #compute the embeddings for each string\n",
                "        embedding_1= model.encode(string_1, convert_to_tensor=True)\n",
                "        embedding_2 = model.encode(string_2, convert_to_tensor=True)\n",
                "        \n",
                "        #compute the cosin similarity of the two embeddings\n",
                "        similarity = util.cos_sim(embedding_1, embedding_2).cpu().numpy()[0][0]\n",
                "\n",
                "        return round(similarity,4)"
            ]
        },
        {
            "cell_type": "markdown",
            "id": "672ff4ed",
            "metadata": {},
            "source": [
                "## Entity Resolution to Reference Data\n",
                "Attempt to associate new entities with known objects specified as reference data"
            ]
        },
        {
            "cell_type": "code",
            "execution_count": null,
            "id": "832fa220",
            "metadata": {},
            "outputs": [],
            "source": [
                "# Query KG for Entities from Articles that have not been connected with a REFERS_TO edge.\n",
                "unreferred_entities = kg.cypher_query(\"MATCH (a:Entity) WHERE NOT (a)-[:REFERS_TO]->() RETURN (a)\",\"a\")\n",
                "print (\"Query found {count} Entity nodes that did not have REFER_TO edges.\".format(count=len(unreferred_entities)))\n",
                "\n",
                "# Query KG for Reference Nodes that might be appropriate to add a REFERS_TO edge.\n",
                "reference_node_list = kg.get_all_reference_nodes();\n",
                "print (\"Query found {count} Reference nodes those entities might match.\".format(count=len(reference_node_list)))\n",
                "\n",
                "count=0\n",
                "if len(unreferred_entities) > 0 and len(reference_node_list) > 0:\n",
                "    for entity in unreferred_entities:\n",
                "\n",
                "        # For each entity find the most semantically similar Reference Node\n",
                "        max_score=0.0\n",
                "        max_record:ReferenceNode=None\n",
                "        for ref_node in reference_node_list:\n",
                "            if entity.type == ref_node.type:\n",
                "                this_score=cached_cosin_similarity(entity,ref_node)\n",
                "                if this_score > max_score or max_record is None:\n",
                "                    max_score = this_score\n",
                "                    max_record = ref_node\n",
                "        \n",
                "        # If the most similar is above the threshold, add a REFERS_TO edge.\n",
                "        if max_score > connect_threshold:\n",
                "            if verbose:\n",
                "                print (\"Linking:\\t{entity}\\t-[REFERS_TO ({score})]->\\t{reference}\".format(\n",
                "                    score=max_score,entity=entity.text,reference=max_record.text))\n",
                "            \n",
                "            kg.add_refers_to_edge(entity=entity, reference=max_record, confidence=max_score)\n",
                "            count+=1\n",
                "        #else:\n",
                "            #print (\"Skipping:\\t{entity}\".format(entity=entity.text))\n",
                "\n",
                "print (\"Discovered {count} new REFER_TO edges.\".format(count=count))"
            ]
        },
        {
            "cell_type": "markdown",
            "id": "5f8117d6",
            "metadata": {},
            "source": [
                "### Entity Discovery and Resolution to Hypothesized Entities\n",
                "Attempt to associate any unmatched entities to each other by hypothesizing a new objects to which some may refer."
            ]
        },
        {
            "cell_type": "code",
            "execution_count": null,
            "id": "82602acd",
            "metadata": {},
            "outputs": [],
            "source": [
                "\n",
                "# Query KG for Entities from Articles that have not been connected with a REFERS_TO edge.\n",
                "remaining_entities_results = kg.cypher_query(\"MATCH (a:Entity) WHERE NOT (a)-[:REFERS_TO]->() RETURN (a)\")\n",
                "print (\"Query found {count} Entity nodes that did not have REFER_TO edges.\".format(count=len(remaining_entities_results)))\n",
                "\n",
                "resolved= []\n",
                "for entity_1 in remaining_entities_results:\n",
                "    if entity_1.uid in resolved: # skip if it has already been aggregated elsewhere\n",
                "        continue\n",
                "    to_aggregate = [(entity_1, 1.0)]\n",
                "    resolved.append(entity_1.uid)\n",
                "\n",
                "    for entity_2 in remaining_entities_results:\n",
                "        if entity_1.type == entity_2.type and entity_2.uid not in resolved:\n",
                "            this_score=cached_cosin_similarity(entity_1,entity_2)\n",
                "            if this_score > hypothesize_threshold:\n",
                "                #print (\"Inferred '\"+entity_1.text+\"' and '\"+entity_2.text+\"' are the same with \"+str(this_score))\n",
                "                to_aggregate.append((entity_2, this_score))\n",
                "                resolved.append(entity_2.uid)\n",
                "\n",
                "    if len(to_aggregate) > 1:\n",
                "        hypothesis=kg.add_reference_node(text=entity_1.text,type=entity_1.type,hypothesized=True)\n",
                "        print(\"Asserting:\\t{text}: {type}\".format(text=hypothesis.text,type=hypothesis.type))\n",
                "\n",
                "        for entity, score in to_aggregate:\n",
                "            print (\"Hypothesizing:\\t{entity}\\t-[REFERS_TO ({score})]->\\t{reference}\".format(score=score,entity=entity.text,reference=hypothesis.text))\n",
                "            kg.add_refers_to_edge(entity=entity, reference=hypothesis, confidence=score)"
            ]
        },
        {
            "attachments": {},
            "cell_type": "markdown",
            "id": "ba279766-e272-4ce1-a4df-43efb77fb86d",
            "metadata": {
                "tags": []
            },
            "source": [
                "# Close down any remote connections"
            ]
        },
        {
            "cell_type": "code",
            "execution_count": null,
            "id": "75e11866-eb61-4bc3-894a-55f8105d59f1",
            "metadata": {},
            "outputs": [],
            "source": [
                "kg.close()"
            ]
        }
    ],
    "metadata": {
        "kernelspec": {
            "display_name": "opentldr-env",
            "language": "python",
            "name": "python3"
        },
        "language_info": {
            "codemirror_mode": {
                "name": "ipython",
                "version": 3
            },
            "file_extension": ".py",
            "mimetype": "text/x-python",
            "name": "python",
            "nbconvert_exporter": "python",
            "pygments_lexer": "ipython3",
            "version": "3.12.9"
        }
    },
    "nbformat": 4,
    "nbformat_minor": 5
}