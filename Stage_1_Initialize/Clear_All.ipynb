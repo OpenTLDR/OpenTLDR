{
    "cells": [
        {
            "attachments": {},
            "cell_type": "markdown",
            "id": "22652f6a-3d56-4a25-9c2c-7d149882e084",
            "metadata": {},
            "source": [
                "# Clear All\n",
                "\n",
                "This notebook performs initialization of your Knowledge Graph.\n",
                "\n",
                "When running experiments with OpenTLDR, it is often useful for accuracy and repeatability to start with a clear knowledge graph.\n",
                "\n",
                "This notebooks also serves as a simple example for passing parameters (see message parameter below).\n",
                "\n",
                ">WARNING: This deletes everything in the KG!\n",
                "\n",
                "The result of this Notebooks will be:\n",
                "- A clear KG"
            ]
        },
        {
            "cell_type": "markdown",
            "id": "0a0ed32e",
            "metadata": {},
            "source": [
                "### Import General Libraries"
            ]
        },
        {
            "cell_type": "code",
            "execution_count": null,
            "id": "5adde940",
            "metadata": {},
            "outputs": [],
            "source": [
                "import os\n",
                "import logging"
            ]
        },
        {
            "cell_type": "markdown",
            "id": "8fd1f6a1",
            "metadata": {},
            "source": [
                "### Parameters can be passed into the Notebook from an OpenTLDR Workflow\n",
                "OpenTLDR workflows use the notebook block tagged as \"parameters\" to inject variables (for example to redirect the source of content).\n",
                "\n",
                "> **Changing Variable Names in the Parameters Block** you are welcome to change the values of these parameter variables, but if you change their names, be aware they are used elsewhere in the notebook and in other workflow stages."
            ]
        },
        {
            "cell_type": "code",
            "execution_count": null,
            "id": "4e2006b6",
            "metadata": {
                "tags": [
                    "parameters"
                ]
            },
            "outputs": [],
            "source": [
                "# Workflow Parameters - these may be overridden by the Workflow\n",
                "\n",
                "message = \"Using default values in the Notebooks 'parameters' block.\"\n",
                "\n",
                "# Logging level ranges are (from least to most verbose): ERROR, WARN, INFO, DEBUG\n",
                "logging_level = logging.DEBUG\n",
                "verbose = True"
            ]
        },
        {
            "cell_type": "markdown",
            "id": "e4d34154",
            "metadata": {},
            "source": [
                "## Example of Parameter passing in Action:\n",
                "Let's verify that the parameters are working as expected. Note that the verbose parameter must be set to True for this to print anything.\n",
                "\n",
                "If you are running this notebook directly, you should see the value set in the above cell (which is tagged 'parameters'), by default that is: \n",
                "<pre>Using default values in the Notebooks 'parameters' block.</pre>\n",
                "\n",
                "If you are running this notebook thru the default workflow, then you will be looking at the READ ONLY outputed notebooks (by default this is stored in the \"./READ_ONLY_OUTPUT\" folder) and you should see the value set in the Workflow.ipynb notebook, by default that is: \n",
                "<pre>Successfully passed in parameters from Workflow.ipynb!</pre>\n",
                "\n",
                "If you see nothing below, then you likely have verbose set to False. It must be set to True to get to the print statement below..."
            ]
        },
        {
            "cell_type": "code",
            "execution_count": null,
            "id": "c311355d",
            "metadata": {},
            "outputs": [],
            "source": [
                "if verbose:\n",
                "    print(message)"
            ]
        },
        {
            "attachments": {},
            "cell_type": "markdown",
            "id": "b5975501-f3e1-46e9-a870-affc262e1085",
            "metadata": {},
            "source": [
                "## Setup\n",
                "\n"
            ]
        },
        {
            "cell_type": "markdown",
            "id": "ca4ba8c1",
            "metadata": {},
            "source": [
                "### Set Logging"
            ]
        },
        {
            "cell_type": "code",
            "execution_count": null,
            "id": "00f16b46",
            "metadata": {},
            "outputs": [],
            "source": [
                "logging.getLogger(\"OpenTLDR\").setLevel(logging_level)"
            ]
        },
        {
            "cell_type": "markdown",
            "id": "9d00cf49",
            "metadata": {},
            "source": [
                "### Import OpenTLDR Libraries\n"
            ]
        },
        {
            "cell_type": "code",
            "execution_count": null,
            "id": "173be13b-5f0b-45e1-8438-571e3f09b28a",
            "metadata": {
                "tags": []
            },
            "outputs": [],
            "source": [
                "from opentldr import KnowledgeGraph, DataRepo\n",
                "\n",
                "kg=KnowledgeGraph()"
            ]
        },
        {
            "attachments": {},
            "cell_type": "markdown",
            "id": "5fb656e9",
            "metadata": {},
            "source": [
                "## Initialize the Knowledge Graph\n",
                "\n",
                "> **WARNING: this will erase data in the current KG and cannot be undone.**\n",
                "> Please be sure that this is what you want to do before running this cell. You can turn off this behavior in the parameters block using by setting the 'clean_policy' variable to \"keep\".\n",
                "\n",
                "The kg.delete_all() method is equivelent to running the Cipher command \"MATCH(x) DETACH DELETE x\" which matches any node and then deletes it and any connected edges."
            ]
        },
        {
            "cell_type": "code",
            "execution_count": null,
            "id": "9c36efd1",
            "metadata": {},
            "outputs": [],
            "source": [
                "# removes everything...\n",
                "kg.delete_all()"
            ]
        },
        {
            "attachments": {},
            "cell_type": "markdown",
            "id": "ba279766-e272-4ce1-a4df-43efb77fb86d",
            "metadata": {
                "tags": []
            },
            "source": [
                "## Close down the remote connections to the database"
            ]
        },
        {
            "cell_type": "code",
            "execution_count": null,
            "id": "75e11866-eb61-4bc3-894a-55f8105d59f1",
            "metadata": {},
            "outputs": [],
            "source": [
                "kg.close()"
            ]
        }
    ],
    "metadata": {
        "kernelspec": {
            "display_name": "opentldr-env",
            "language": "python",
            "name": "python3"
        },
        "language_info": {
            "codemirror_mode": {
                "name": "ipython",
                "version": 3
            },
            "file_extension": ".py",
            "mimetype": "text/x-python",
            "name": "python",
            "nbconvert_exporter": "python",
            "pygments_lexer": "ipython3",
            "version": "3.10.9"
        }
    },
    "nbformat": 4,
    "nbformat_minor": 5
}