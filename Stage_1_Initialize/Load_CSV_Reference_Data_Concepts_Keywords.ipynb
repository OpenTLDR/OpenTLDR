{
    "cells": [
        {
            "attachments": {},
            "cell_type": "markdown",
            "id": "22652f6a-3d56-4a25-9c2c-7d149882e084",
            "metadata": {},
            "source": [
                "# Import Reference Data from CSV Files\n"
            ]
        },
        {
            "cell_type": "code",
            "execution_count": null,
            "id": "76bb07cd",
            "metadata": {},
            "outputs": [],
            "source": [
                "import os\n",
                "import logging\n"
            ]
        },
        {
            "cell_type": "code",
            "execution_count": null,
            "id": "4e2006b6",
            "metadata": {
                "tags": [
                    "parameters"
                ]
            },
            "outputs": [],
            "source": [
                "# Parameters\n",
                "\n",
                "keyword_to_concept_csv_file= \"../Data/TechINT/reference/keywords.csv\"\n",
                "concept_to_concept_csv_file= \"../Data/TechINT/reference/concepts.csv\"\n",
                "\n",
                "# Logging level ranges are (from least to most verbose): ERROR, WARN, INFO, DEBUG\n",
                "logging_level = logging.INFO\n",
                "\n",
                "# level of unnecessary output\n",
                "verbose = True"
            ]
        },
        {
            "cell_type": "code",
            "execution_count": null,
            "id": "173be13b-5f0b-45e1-8438-571e3f09b28a",
            "metadata": {
                "tags": []
            },
            "outputs": [],
            "source": [
                "logging.getLogger(\"OpenTLDR\").setLevel(logging_level)\n",
                "\n",
                "from opentldr import KnowledgeGraph\n",
                "from opentldr.Domain import ReferenceNode, ReferenceEdge\n",
                "\n",
                "kg=KnowledgeGraph()"
            ]
        },
        {
            "cell_type": "markdown",
            "id": "c6779b1d",
            "metadata": {},
            "source": [
                "## Example Loading of Keyword Reference Data from a CSV file\n",
                "\n",
                "- Keywords are loaded as ReferenceNodes where the type is KEYWORD\n",
                "- Concepts are loaded as ReferenceNodes where the type is CONCEPT\n",
                "- Relationships link the KEYWORD to the CONCEPT"
            ]
        },
        {
            "cell_type": "markdown",
            "id": "fd71ea68",
            "metadata": {},
            "source": [
                "### Import Entities for Reference Data from a CSV file\n",
                "\n",
                "CVS Format for Keyword and Concept:\n",
                "\n",
                "| Keyword | Concept | Description |\n",
                "| :---: | :--- | :--- |\n",
                "| bacon | breakfast foods | People like bacon for breakfast. |\n",
                "| eggs | breakfast foods | People eat eggs for breakfast. |"
            ]
        },
        {
            "cell_type": "code",
            "execution_count": null,
            "id": "06a1fdcf",
            "metadata": {},
            "outputs": [],
            "source": [
                "\n",
                "unique_keywords = {}\n",
                "unique_concepts = {}\n",
                "\n",
                "if keyword_to_concept_csv_file is not None:\n",
                "    with open(keyword_to_concept_csv_file) as file:\n",
                "        lines = file.readlines()\n",
                "        for line in lines[1:]:  # Note: skips the header line in the CSV file \n",
                "            # parse out some fields from the csv record\n",
                "            part = line.split(\",\")\n",
                "            keyword = part[0].strip('\\\"').strip()\n",
                "            concept = part[1].strip('\\\"').strip()\n",
                "            desc = part[2].strip('\\\"').strip()\n",
                "\n",
                "            # You can call the KnowledgeGraph API for most actions\n",
                "            concept_node=None\n",
                "            if concept.lower() in unique_concepts:\n",
                "                concept_node = unique_concepts[concept.lower()]\n",
                "            else:\n",
                "                concept_node = kg.add_reference_node(text=concept,type=\"CONCEPT\")\n",
                "                unique_concepts[concept.lower()] = concept_node\n",
                "            \n",
                "            keyword_node=None\n",
                "            if keyword.lower() in unique_keywords:\n",
                "                keyword_node = unique_keywords[keyword.lower()]\n",
                "            else:\n",
                "                keyword_node= kg.add_reference_node(text=keyword,type=\"KEYWORD\")\n",
                "                unique_keywords[keyword.lower()] = keyword_node\n",
                "\n",
                "            edge = kg.add_reference_edge(from_node=keyword_node,to_node=concept_node, type=\"KeywordToConcept\", text=desc)\n",
                "\n",
                "            print(\"Added ({uid}):\\t{text} of type {type}\".format(uid=keyword_node.uid, text=keyword_node.text, type=keyword_node.type))"
            ]
        },
        {
            "cell_type": "markdown",
            "id": "02773784",
            "metadata": {},
            "source": [
                "### Import Relationships between Concepts for Reference Data from a CSV file\n",
                "\n",
                "CVS Format for Relationships:\n",
                "\n",
                "| Concept From | Concept To | Relationship Text |\n",
                "| :---: | :---: | :---: |\n",
                "| breakfast foods | foods | Breakfast foods relate to the category of foods in general. |\n"
            ]
        },
        {
            "cell_type": "code",
            "execution_count": null,
            "id": "9f36f35d",
            "metadata": {},
            "outputs": [],
            "source": [
                "if concept_to_concept_csv_file is not None:\n",
                "    with open(concept_to_concept_csv_file) as file:\n",
                "        lines = file.readlines()\n",
                "        for line in lines[1:]:  # Note: skips the header line in the CSV file \n",
                "            # parse out some fields from the csv record\n",
                "            part = line.split(\",\")\n",
                "            from_concept = part[0].strip('\\\"').strip()\n",
                "            to_concept = part[1].strip('\\\"').strip()\n",
                "            desc = part[2].strip('\\\"').strip()\n",
                "\n",
                "            # You can call the KnowledgeGraph API for most actions\n",
                "\n",
                "            from_concept_node=None\n",
                "            if from_concept.lower() in unique_concepts:\n",
                "                from_concept_node = unique_concepts[from_concept.lower()]\n",
                "            else:\n",
                "                from_concept_node = kg.add_reference_node(text=from_concept,type=\"CONCEPT\")\n",
                "                unique_concepts[from_concept.lower()] = from_concept_node\n",
                "                print(\"Added Concept ({uid}):\\t{text}\".format(uid=from_concept_node.uid, text=from_concept_node.text))\n",
                "\n",
                "            to_concept_node=None\n",
                "            if to_concept.lower() in unique_concepts:\n",
                "                to_concept_node = unique_concepts[to_concept.lower()]\n",
                "            else:\n",
                "                to_concept_node = kg.add_reference_node(text=to_concept,type=\"CONCEPT\")\n",
                "                unique_concepts[to_concept.lower()] = to_concept_node\n",
                "                print(\"Added Concept ({uid}):\\t{text}\".format(uid=to_concept_node.uid, text=to_concept_node.text))\n",
                "\n",
                "\n",
                "            edge = kg.add_reference_edge(from_node=from_concept_node,to_node=to_concept_node,type=\"ConceptToConcept\",text=desc)\n",
                "\n",
                "            print(\"Added Relationship ({uid}):\\t{text}\".format(uid=edge.uid, text=edge.text))\n"
            ]
        },
        {
            "attachments": {},
            "cell_type": "markdown",
            "id": "ba279766-e272-4ce1-a4df-43efb77fb86d",
            "metadata": {
                "tags": []
            },
            "source": [
                "# Close down the remote connections to the database"
            ]
        },
        {
            "cell_type": "code",
            "execution_count": null,
            "id": "75e11866-eb61-4bc3-894a-55f8105d59f1",
            "metadata": {},
            "outputs": [],
            "source": [
                "kg.close()"
            ]
        }
    ],
    "metadata": {
        "kernelspec": {
            "display_name": "opentldr-env",
            "language": "python",
            "name": "python3"
        },
        "language_info": {
            "codemirror_mode": {
                "name": "ipython",
                "version": 3
            },
            "file_extension": ".py",
            "mimetype": "text/x-python",
            "name": "python",
            "nbconvert_exporter": "python",
            "pygments_lexer": "ipython3",
            "version": "3.10.9"
        }
    },
    "nbformat": 4,
    "nbformat_minor": 5
}