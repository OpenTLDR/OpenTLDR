{
    "cells": [
        {
            "attachments": {},
            "cell_type": "markdown",
            "id": "22652f6a-3d56-4a25-9c2c-7d149882e084",
            "metadata": {},
            "source": [
                "# Import Reference Data from CSV Files\n"
            ]
        },
        {
            "cell_type": "code",
            "execution_count": null,
            "id": "76bb07cd",
            "metadata": {},
            "outputs": [],
            "source": [
                "import os\n",
                "import logging\n",
                "\n",
                "#logging.getLogger(\"OpenTLDR\").setLevel(logging.ERROR)  # Less output\n",
                "#logging.getLogger(\"OpenTLDR\").setLevel(logging.WARN)   # Default\n",
                "#logging.getLogger(\"OpenTLDR\").setLevel(logging.INFO)   # More output\n",
                "logging.getLogger(\"OpenTLDR\").setLevel(logging.DEBUG)  # So much output\n"
            ]
        },
        {
            "cell_type": "code",
            "execution_count": null,
            "id": "4e2006b6",
            "metadata": {
                "tags": [
                    "parameters"
                ]
            },
            "outputs": [],
            "source": [
                "example_entity_csv_file= \"./entities.csv\"\n",
                "example_relationship_csv_file= \"./relationships.csv\""
            ]
        },
        {
            "cell_type": "code",
            "execution_count": null,
            "id": "173be13b-5f0b-45e1-8438-571e3f09b28a",
            "metadata": {
                "tags": []
            },
            "outputs": [],
            "source": [
                "from opentldr import KnowledgeGraph\n",
                "kg=KnowledgeGraph()"
            ]
        },
        {
            "cell_type": "markdown",
            "id": "c6779b1d",
            "metadata": {},
            "source": [
                "## Example Loading of Reference Data from a CSV file\n",
                "\n",
                "- Entities are loaded as ReferenceNodes where the type should match those discovered by NER process\n",
                "- Relationships are loaded as ReferenceEdges where the To/From attributes match entity text to identify which ReferenceNodes to connect"
            ]
        },
        {
            "cell_type": "markdown",
            "id": "fd71ea68",
            "metadata": {},
            "source": [
                "### Import Entities for Reference Data from a CSV file\n",
                "\n",
                "CVS Format for Entities:\n",
                "\n",
                "| Type | Text | JSON MetaData |\n",
                "| :---: | :--- | :--- |\n",
                "| PERSON | Chris | { \"FullName\":\"Chris Argenta\" } |\n",
                "| ORG | NCSU | { \"FullName\":\"North Carolina State University\" } |"
            ]
        },
        {
            "cell_type": "code",
            "execution_count": null,
            "id": "06a1fdcf",
            "metadata": {},
            "outputs": [],
            "source": [
                "from opentldr.Domain import ReferenceNode\n",
                "\n",
                "entities: dict = {}\n",
                "\n",
                "if example_entity_csv_file is not None:\n",
                "    with open(example_entity_csv_file) as file:\n",
                "        lines = file.readlines()\n",
                "        for line in lines[1:]:  # Note: skips the header line in the CSV file \n",
                "            # parse out some fields from the csv record\n",
                "            part = line.split(\",\")\n",
                "            entity_type = part[0].strip('\\\"')\n",
                "            entity_text = part[1].strip('\\\"')\n",
                "            entity_meta = part[2].strip('\\\"')\n",
                "\n",
                "            # You can call the KnowledgeGraph API for most actions\n",
                "            ref_node= kg.add_reference_node(entity_text,entity_type)\n",
                "            print(\"Added ({uid}):\\t{text} of type {type}\".format(uid=ref_node.uid, text=ref_node.text, type=ref_node.type))\n",
                "\n",
                "            # You can also use the Neomodel api directly from Domain classes\n",
                "            ref_node.metadata=entity_meta;\n",
                "            ref_node.save()\n",
                "\n",
                "            entities[ref_node.text]=ref_node"
            ]
        },
        {
            "cell_type": "markdown",
            "id": "02773784",
            "metadata": {},
            "source": [
                "### Import Relationships between Entities for Reference Data from a CSV file\n",
                "\n",
                "CVS Format for Relationships:\n",
                "\n",
                "| Entity From | Entity To | Relationship Type | Relationship Text |\n",
                "| :---: | :---: | :---: | :--- |\n",
                "| Chris | NCSU | GRADUATE_OF | Chris Argenta completed his PhD at NCSU in 2017. |\n"
            ]
        },
        {
            "cell_type": "code",
            "execution_count": null,
            "id": "9f36f35d",
            "metadata": {},
            "outputs": [],
            "source": [
                "from opentldr.Domain import ReferenceEdge\n",
                "\n",
                "if example_relationship_csv_file is not None:\n",
                "    with open(example_relationship_csv_file) as file:\n",
                "        lines = file.readlines()\n",
                "        for line in lines[1:]:  # Note: skips the header line in the CSV file \n",
                "            part = line.split(\",\")\n",
                "            entity_from=entities[part[0].strip('\\\" ')]\n",
                "            entity_to= entities[part[1].strip('\\\" ')]\n",
                "            rel_type= part[2].strip('\\\" ')\n",
                "            rel_text= part[3].strip('\\\" \\n')\n",
                "            \n",
                "            edge = kg.add_reference_edge(entity_from,entity_to,type=rel_type, text=rel_text)\n",
                "            print(\"Added ({uid}):\\t{entity_from} -[{edge}]-> {entity_to}\".format(\n",
                "                uid=edge.uid,\n",
                "                entity_from=entity_from.text,\n",
                "                entity_to=entity_to.text,\n",
                "                edge=edge.type))"
            ]
        },
        {
            "attachments": {},
            "cell_type": "markdown",
            "id": "0f4740da",
            "metadata": {},
            "source": [
                "### Let's verify that the Reference Knowledge got added\n",
                "This shows the nodes that were loaded with the Reference Data, including their unique ids."
            ]
        },
        {
            "cell_type": "code",
            "execution_count": null,
            "id": "fe6538bb",
            "metadata": {},
            "outputs": [],
            "source": [
                "# Makes a cypher query to the KG\n",
                "# all_reference_nodes= kg.cypher_query_to_list(\"MATCH (x:ReferenceNode) RETURN x\",\"x\")\n",
                "all_reference_nodes= kg.get_all_reference_nodes()\n",
                "\n",
                "print(\"Found {count} reference nodes in the knowledge graph:\".format(count=len(all_reference_nodes)))\n",
                "\n",
                "# Iterate thru the Reference Nodes and print info for each\n",
                "for reference_node in all_reference_nodes:\n",
                "    print(\" - {type}({uid}):\\t{text}\".format(\n",
                "        type=reference_node.type, uid=reference_node.uid, text=reference_node.text))"
            ]
        },
        {
            "attachments": {},
            "cell_type": "markdown",
            "id": "ba279766-e272-4ce1-a4df-43efb77fb86d",
            "metadata": {
                "tags": []
            },
            "source": [
                "# Close down the remote connections to the database"
            ]
        },
        {
            "cell_type": "code",
            "execution_count": null,
            "id": "75e11866-eb61-4bc3-894a-55f8105d59f1",
            "metadata": {},
            "outputs": [],
            "source": [
                "kg.close()"
            ]
        }
    ],
    "metadata": {
        "kernelspec": {
            "display_name": "opentldr-env",
            "language": "python",
            "name": "python3"
        },
        "language_info": {
            "codemirror_mode": {
                "name": "ipython",
                "version": 3
            },
            "file_extension": ".py",
            "mimetype": "text/x-python",
            "name": "python",
            "nbconvert_exporter": "python",
            "pygments_lexer": "ipython3",
            "version": "3.11.8"
        }
    },
    "nbformat": 4,
    "nbformat_minor": 5
}