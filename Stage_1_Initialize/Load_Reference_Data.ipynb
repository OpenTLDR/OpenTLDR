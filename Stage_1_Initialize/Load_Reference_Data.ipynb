{
    "cells": [
        {
            "attachments": {},
            "cell_type": "markdown",
            "id": "22652f6a-3d56-4a25-9c2c-7d149882e084",
            "metadata": {},
            "source": [
                "# Load Reference Data\n",
                "\n",
                "This notebook performs loads Reference Data from a DataRepo into your Knowledge Graph.\n",
                "* Load a file that contains any Reference Knowledge (in a Cipher syntax or from CSV files)\n",
                "\n",
                "The result of this step includes:\n",
                "- ReferenceNode nodes connected to each other with ReferenceEdge edges"
            ]
        },
        {
            "cell_type": "markdown",
            "id": "0a0ed32e",
            "metadata": {},
            "source": [
                "### Import General Libraries"
            ]
        },
        {
            "cell_type": "code",
            "execution_count": null,
            "id": "5adde940",
            "metadata": {},
            "outputs": [],
            "source": [
                "import os\n",
                "import logging"
            ]
        },
        {
            "cell_type": "markdown",
            "id": "8fd1f6a1",
            "metadata": {},
            "source": [
                "### Parameters can be passed into the Notebook from an OpenTLDR Workflow\n",
                "OpenTLDR workflows use the notebook block tagged as \"parameters\" to inject variables (for example to redirect the source of content).\n",
                "\n",
                "> **Changing Variable Names in the Parameters Block** you are welcome to change the values of these parameter variables, but if you change their names, be aware they are used elsewhere in the notebook and in other workflow stages."
            ]
        },
        {
            "cell_type": "code",
            "execution_count": null,
            "id": "4e2006b6",
            "metadata": {
                "tags": [
                    "parameters"
                ]
            },
            "outputs": [],
            "source": [
                "# Workflow Parameters - these may be overridden by the Workflow\n",
                "\n",
                "data_repo_config= {'repo_type': 'files', 'path': '../Data/Sample/reference'}\n",
                "\n",
                "# Example of using S3 bucket:\n",
                "#\n",
                "# data_repo_config = {\n",
                "#        'repo_type': 's3',\n",
                "#        'bucket': os.getenv(\"S3_BUCKET\"),\n",
                "#        'aws_access_key_id': os.getenv(\"S3_ACCESS_KEY_ID\"),\n",
                "#        'aws_secret_access_key': os.getenv(\"S3_SECRET_KEY\"),\n",
                "#        'prefix': 'reference'\n",
                "#        }\n",
                "\n",
                "# Logging level ranges are (from least to most verbose): ERROR, WARN, INFO, DEBUG\n",
                "logging_level= logging.INFO\n",
                "\n",
                "verbose = True"
            ]
        },
        {
            "attachments": {},
            "cell_type": "markdown",
            "id": "b5975501-f3e1-46e9-a870-affc262e1085",
            "metadata": {},
            "source": [
                "# Setup\n",
                "\n"
            ]
        },
        {
            "cell_type": "markdown",
            "id": "9d00cf49",
            "metadata": {},
            "source": [
                "### Import OpenTLDR Libraries\n"
            ]
        },
        {
            "cell_type": "code",
            "execution_count": null,
            "id": "173be13b-5f0b-45e1-8438-571e3f09b28a",
            "metadata": {
                "tags": []
            },
            "outputs": [],
            "source": [
                "logging.getLogger(\"OpenTLDR\").setLevel(logging_level)\n",
                "\n",
                "from opentldr import KnowledgeGraph, DataRepo\n",
                "\n",
                "kg=KnowledgeGraph()"
            ]
        },
        {
            "cell_type": "markdown",
            "id": "4608802d",
            "metadata": {},
            "source": [
                "## Loading Reference Data\n",
                "The following cell uses the OpenTLDR DataRepo to load Reference Data.\n",
                "\n",
                "> **Reference Data** enables the definition of knowledge that is known but may not be explicitly called out within any specific article. Within a particular domain there is often \"common knowledge\" that is assumed by formalizing this knowledge in a graph, it can be automatically reasoned about in connection with other information. "
            ]
        },
        {
            "cell_type": "code",
            "execution_count": null,
            "id": "5b8f1647",
            "metadata": {},
            "outputs": [],
            "source": [
                "if data_repo_config is not None:\n",
                "\n",
                "    repo = DataRepo(kg,data_repo_config)\n",
                "    \n",
                "    if verbose:\n",
                "        print(\"Loading Reference Data from: {}\".format(repo.describe()))\n",
                "\n",
                "    list_of_uids =  repo.importData()\n",
                "\n",
                "    print(\"Loaded {count} reference nodes and edges from the repository.\".format(count=len(list_of_uids)))\n",
                "\n",
                "else:\n",
                "    print(\"No DataRepo specified for Reference Data.\")"
            ]
        },
        {
            "cell_type": "markdown",
            "id": "756bb183",
            "metadata": {},
            "source": [
                "## Verify what ReferenceData has been loaded the KG\n",
                "This simply pulls all the ReferenceNodes from the KG and prints them."
            ]
        },
        {
            "cell_type": "code",
            "execution_count": null,
            "id": "fe6538bb",
            "metadata": {},
            "outputs": [],
            "source": [
                "if verbose:\n",
                "\n",
                "    all_reference_nodes= kg.get_all_reference_nodes()\n",
                "    # This API call is equivelent to making a cypher query to the KG:\n",
                "    #  all_reference_nodes= kg.cypher_query(\"MATCH (x:ReferenceNode) RETURN x\",\"x\")\n",
                "\n",
                "    print(\"Found {count} reference nodes in the knowledge graph:\".format(count=len(all_reference_nodes)))\n",
                "\n",
                "    # Iterate thru the Reference Nodes and print info for each\n",
                "    for reference_node in all_reference_nodes:\n",
                "        print(\" - Found {type}({uid}):\\t{text}\".format(\n",
                "            type=reference_node.type, uid=reference_node.uid, text=reference_node.text))"
            ]
        },
        {
            "attachments": {},
            "cell_type": "markdown",
            "id": "ba279766-e272-4ce1-a4df-43efb77fb86d",
            "metadata": {
                "tags": []
            },
            "source": [
                "# Close down the remote connections to the database"
            ]
        },
        {
            "cell_type": "code",
            "execution_count": null,
            "id": "75e11866-eb61-4bc3-894a-55f8105d59f1",
            "metadata": {},
            "outputs": [],
            "source": [
                "kg.close()"
            ]
        }
    ],
    "metadata": {
        "kernelspec": {
            "display_name": "opentldr-env",
            "language": "python",
            "name": "python3"
        },
        "language_info": {
            "codemirror_mode": {
                "name": "ipython",
                "version": 3
            },
            "file_extension": ".py",
            "mimetype": "text/x-python",
            "name": "python",
            "nbconvert_exporter": "python",
            "pygments_lexer": "ipython3",
            "version": "3.10.9"
        }
    },
    "nbformat": 4,
    "nbformat_minor": 5
}