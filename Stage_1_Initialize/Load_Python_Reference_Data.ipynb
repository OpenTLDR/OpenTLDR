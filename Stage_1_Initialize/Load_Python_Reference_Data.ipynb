{
    "cells": [
        {
            "cell_type": "markdown",
            "metadata": {},
            "source": [
                "# Example Insert Reference Data (programmatically)\n",
                "This is intended as an example to show how "
            ]
        },
        {
            "cell_type": "code",
            "execution_count": null,
            "metadata": {},
            "outputs": [],
            "source": [
                "from opentldr import KnowledgeGraph\n",
                "kg = KnowledgeGraph()"
            ]
        },
        {
            "cell_type": "markdown",
            "metadata": {},
            "source": [
                "## Create some Reference Knowledge in the KG\n",
                "ReferenceNodes have a required type and text attribute.\n",
                "The domain class will automatically be created and saved into the KG.\n",
                "\n",
                "In future stages, the nodes of the same type will be compared and potentially connected to each other."
            ]
        },
        {
            "cell_type": "code",
            "execution_count": null,
            "metadata": {},
            "outputs": [],
            "source": [
                "chris = kg.add_reference_node(type=\"PERSON\", text=\"Chris Argenta\")\n",
                "\n",
                "rockfish = kg.add_reference_node(type=\"ORG\", text=\"Rockfish Research\")"
            ]
        },
        {
            "cell_type": "markdown",
            "metadata": {},
            "source": [
                "## Query for and print all the Reference Nodes\n",
                "The Domain classes include several inherited attributes and methods."
            ]
        },
        {
            "cell_type": "code",
            "execution_count": null,
            "metadata": {},
            "outputs": [],
            "source": [
                "for node in kg.get_all_reference_nodes():\n",
                "    print (\"type:\\t\", type(node))\n",
                "    print (\"json:\\t\", node.to_json(kg))\n",
                "    print (\"text:\\t\", node.to_text())\n",
                "    print ()"
            ]
        },
        {
            "cell_type": "markdown",
            "metadata": {},
            "source": [
                "## Connecting Reference Nodes\n",
                "Edges have attributes and methods as well.\n",
                "\n",
                "In future stages, the text attibute can be used to explain this relationship (e.g., as part of a prompt to an LLM)."
            ]
        },
        {
            "cell_type": "code",
            "execution_count": null,
            "metadata": {},
            "outputs": [],
            "source": [
                "works_for = kg.add_reference_edge(from_node=chris, to_node=rockfish, type=\"WORKS_FOR\", text=\"Chris works for Rockfish\")\n",
                "\n",
                "print (\"type:\\t\", type(works_for))\n",
                "print (\"json:\\t\", works_for.to_json(kg))\n",
                "print (\"text:\\t\", works_for.to_text())"
            ]
        },
        {
            "cell_type": "markdown",
            "metadata": {},
            "source": [
                "## You can edit and .save Domain objects\n",
                "Here we use the metadata attribute to attach our own JSON data to any OpenTLDR domain object.\n",
                "\n",
                "The expectation is that \"metadata\" attributes can be used by researchers to augment the existing objects as they need without changing the base classes.\n",
                "It is a good idea to have check that the metadata attributes exist before trying to use them, because notebooks can be used in different workflows.\n",
                "\n",
                "The 'uid' attribute is automatically generated when the object is saved the first time."
            ]
        },
        {
            "cell_type": "code",
            "execution_count": null,
            "metadata": {},
            "outputs": [],
            "source": [
                "chris.metadata={ \"eyes\": \"brown\" }\n",
                "chris.save()\n",
                "\n",
                "print (\"uid:\\t\", chris.uid)\n",
                "print (\"json:\\t\", chris.to_json(kg))\n",
                "\n",
                "for edge in chris.edges:\n",
                "    print (\"edge:\\t\", edge.to_text())"
            ]
        },
        {
            "cell_type": "markdown",
            "metadata": {},
            "source": [
                "## Delete domain objects that you no longer need\n",
                "When we delete a node, it will attempt to clean up its edges and dependencies."
            ]
        },
        {
            "cell_type": "code",
            "execution_count": null,
            "metadata": {},
            "outputs": [],
            "source": [
                "kg.delete_reference_node(chris)\n",
                "kg.delete_reference_node(rockfish)"
            ]
        },
        {
            "cell_type": "markdown",
            "metadata": {},
            "source": [
                "## Closing the KG ends the Neo4J session and frees up resources"
            ]
        },
        {
            "cell_type": "code",
            "execution_count": null,
            "metadata": {},
            "outputs": [],
            "source": [
                "kg.close()"
            ]
        }
    ],
    "metadata": {
        "kernelspec": {
            "display_name": "opentldr-env",
            "language": "python",
            "name": "python3"
        },
        "language_info": {
            "codemirror_mode": {
                "name": "ipython",
                "version": 3
            },
            "file_extension": ".py",
            "mimetype": "text/x-python",
            "name": "python",
            "nbconvert_exporter": "python",
            "pygments_lexer": "ipython3",
            "version": "3.12.3"
        }
    },
    "nbformat": 4,
    "nbformat_minor": 2
}