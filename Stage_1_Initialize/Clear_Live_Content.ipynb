{
    "cells": [
        {
            "attachments": {},
            "cell_type": "markdown",
            "id": "22652f6a-3d56-4a25-9c2c-7d149882e084",
            "metadata": {},
            "source": [
                "# Clear Live Content\n",
                "\n",
                "This notebook removes current Content and dependent nodes from Knowledge Graph.\n",
                "\n",
                "This is useful in a daily update loop for a live install, where each day you want to load the new day's data without clearing things like existing user requests and previous TLDRs.\n",
                "\n",
                "The result of this Notebooks will be:\n",
                "- A KG without any Content, Summaries, Recommendations, or EvalKey nodes.\n"
            ]
        },
        {
            "cell_type": "markdown",
            "id": "0a0ed32e",
            "metadata": {},
            "source": [
                "### Import General Libraries"
            ]
        },
        {
            "cell_type": "code",
            "execution_count": null,
            "id": "5adde940",
            "metadata": {},
            "outputs": [],
            "source": [
                "import os\n",
                "import logging"
            ]
        },
        {
            "cell_type": "markdown",
            "id": "8fd1f6a1",
            "metadata": {},
            "source": [
                "### Parameters can be passed into the Notebook from an OpenTLDR Workflow\n",
                "OpenTLDR workflows use the notebook block tagged as \"parameters\" to inject variables (for example to redirect the source of content).\n",
                "\n",
                "> **Changing Variable Names in the Parameters Block** you are welcome to change the values of these parameter variables, but if you change their names, be aware they are used elsewhere in the notebook and in other workflow stages."
            ]
        },
        {
            "cell_type": "code",
            "execution_count": null,
            "id": "4e2006b6",
            "metadata": {
                "tags": [
                    "parameters"
                ]
            },
            "outputs": [],
            "source": [
                "# Workflow Parameters - these may be overridden by the Workflow\n",
                "verbose = False\n",
                "\n",
                "# Logging level ranges are (from least to most verbose): ERROR, WARN, INFO, DEBUG\n",
                "logging_level= logging.INFO"
            ]
        },
        {
            "attachments": {},
            "cell_type": "markdown",
            "id": "b5975501-f3e1-46e9-a870-affc262e1085",
            "metadata": {},
            "source": [
                "# Setup\n",
                "\n"
            ]
        },
        {
            "cell_type": "markdown",
            "id": "ca4ba8c1",
            "metadata": {},
            "source": [
                "### Set Logging"
            ]
        },
        {
            "cell_type": "code",
            "execution_count": null,
            "id": "00f16b46",
            "metadata": {},
            "outputs": [],
            "source": [
                "logging.getLogger(\"OpenTLDR\").setLevel(logging_level)"
            ]
        },
        {
            "cell_type": "markdown",
            "id": "9d00cf49",
            "metadata": {},
            "source": [
                "### Import OpenTLDR Libraries\n"
            ]
        },
        {
            "cell_type": "code",
            "execution_count": null,
            "id": "173be13b-5f0b-45e1-8438-571e3f09b28a",
            "metadata": {
                "tags": []
            },
            "outputs": [],
            "source": [
                "from opentldr import KnowledgeGraph\n",
                "\n",
                "kg=KnowledgeGraph()"
            ]
        },
        {
            "attachments": {},
            "cell_type": "markdown",
            "id": "5fb656e9",
            "metadata": {},
            "source": [
                "# Clear previous Content from the Knowledge Graph\n",
                "\n",
                "> **WARNING: this will erase selected data in the current KG and cannot be undone.**\n",
                "> Please be sure that this is what you want to do before running this cell."
            ]
        },
        {
            "cell_type": "code",
            "execution_count": null,
            "id": "9c36efd1",
            "metadata": {},
            "outputs": [],
            "source": [
                "kg.delete_all_evalkeys()\n",
                "kg.delete_all_recommendations()\n",
                "kg.delete_all_summaries()\n",
                "kg.delete_all_content()\n",
                "\n",
                "# Note: this leaves all Reference, Requests, and TLDR Data"
            ]
        },
        {
            "attachments": {},
            "cell_type": "markdown",
            "id": "ba279766-e272-4ce1-a4df-43efb77fb86d",
            "metadata": {
                "tags": []
            },
            "source": [
                "# Close down the remote connections to the database"
            ]
        },
        {
            "cell_type": "code",
            "execution_count": null,
            "id": "75e11866-eb61-4bc3-894a-55f8105d59f1",
            "metadata": {},
            "outputs": [],
            "source": [
                "kg.close()"
            ]
        }
    ],
    "metadata": {
        "kernelspec": {
            "display_name": "opentldr-env",
            "language": "python",
            "name": "python3"
        },
        "language_info": {
            "codemirror_mode": {
                "name": "ipython",
                "version": 3
            },
            "file_extension": ".py",
            "mimetype": "text/x-python",
            "name": "python",
            "nbconvert_exporter": "python",
            "pygments_lexer": "ipython3",
            "version": "3.10.9"
        }
    },
    "nbformat": 4,
    "nbformat_minor": 5
}