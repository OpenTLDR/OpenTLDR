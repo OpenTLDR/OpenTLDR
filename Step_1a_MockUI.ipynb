{
    "cells": [
        {
            "attachments": {},
            "cell_type": "markdown",
            "id": "b29b70f4-f7b6-48bb-ac19-a75a58504fbc",
            "metadata": {},
            "source": [
                "# Step 1a MockUI: Setup an Information Request in KG\n",
                "A user specifies their information request in natural language, this is processed much like an article.\n",
                "\n",
                "![step1a](resources/Step1a_MockUI.png)\n",
                "\n",
                "The result of this step includes:\n",
                "- User nodes\n",
                "- Request nodes, connected to User nodes with an REQUESTED_BY relationship\n",
                "- Entity nodes, connected to Request nodes with a MENTIONED_IN relationship"
            ]
        },
        {
            "cell_type": "code",
            "execution_count": null,
            "id": "38362509",
            "metadata": {},
            "outputs": [],
            "source": [
                "import os\n",
                "import logging\n",
                "\n",
                "#logging.getLogger(\"OpenTLDR\").setLevel(logging.ERROR)  # Less output\n",
                "#logging.getLogger(\"OpenTLDR\").setLevel(logging.WARN)   # Default\n",
                "logging.getLogger(\"OpenTLDR\").setLevel(logging.INFO)   # More output\n",
                "#logging.getLogger(\"OpenTLDR\").setLevel(logging.DEBUG)  # So much output"
            ]
        },
        {
            "cell_type": "code",
            "execution_count": null,
            "id": "b5801532",
            "metadata": {},
            "outputs": [],
            "source": [
                "from opentldr import KnowledgeGraph\n",
                "kg=KnowledgeGraph()\n",
                "\n",
                "from opentldr.Domain import User, Request, Entity"
            ]
        },
        {
            "cell_type": "markdown",
            "id": "4bd926e2",
            "metadata": {},
            "source": [
                "## Parameters\n",
                "OpenTLDR workflows use the notebook block tagged as \"parameters\" to inject variables (for example to configure special requests).\n",
                "\n",
                "> **Do Not Change Variable Names in the Parameters Block** you are welcome to change the values of these parameter variables, but please do not change their names. They are used elsewhere in the notebook and in other workflow processes."
            ]
        },
        {
            "cell_type": "code",
            "execution_count": null,
            "id": "1fc286a3",
            "metadata": {
                "tags": [
                    "parameters"
                ]
            },
            "outputs": [],
            "source": [
                "# Workflow Parameters\n",
                "request_date_repo_config = {'repo_type': 'files', 'path': './sample_data/request'}\n",
                "\n",
                "# Local Parameters\n",
                "spacy_model=\"en_core_web_lg\""
            ]
        },
        {
            "attachments": {},
            "cell_type": "markdown",
            "id": "85992072",
            "metadata": {},
            "source": [
                "## Named Entity Recognition\n"
            ]
        },
        {
            "cell_type": "markdown",
            "id": "c42d3073",
            "metadata": {},
            "source": [
                "### Setup spaCy for NLP/NER"
            ]
        },
        {
            "cell_type": "code",
            "execution_count": null,
            "id": "ce5e8461",
            "metadata": {},
            "outputs": [],
            "source": [
                "import spacy\n",
                "import sys\n",
                "import subprocess\n",
                "\n",
                "# if you have a GPU and your imstalled the spacy[cuda] package, it will use the GPU\n",
                "spacy.prefer_gpu()\n",
                "\n",
                "# SpaCy uses a language model that needs to be downloaded, this checks if that has been done\n",
                "# and if it has not, it will download the model (and some dependencies) which can take a bit.\n",
                "if not spacy.util.is_package(spacy_model):\n",
                "        print(\"Downloading spaCy NLP Model...\")\n",
                "        #equivelent to running -> !{sys.executable} -m spacy download {spacy_model}\n",
                "        subprocess.check_call([sys.executable, \"-m\", \"spacy\", \"download\", spacy_model])\n",
                "else:\n",
                "        print(\"spaCy model ({model}) is already downloaded.\".format(model=spacy_model))\n",
                "\n",
                "nlp = spacy.load(spacy_model)"
            ]
        },
        {
            "cell_type": "markdown",
            "id": "400ca868",
            "metadata": {},
            "source": [
                "### Function for running NER on a text string\n",
                "The call to \"spacy.display.render\" prints out the text with annotations."
            ]
        },
        {
            "cell_type": "code",
            "execution_count": null,
            "id": "22d7f7c5",
            "metadata": {},
            "outputs": [],
            "source": [
                "def named_entity_recognition(text:str):\n",
                "        doc = nlp(text)\n",
                "        spacy.displacy.render(doc, style='ent')\n",
                "        return doc.ents"
            ]
        },
        {
            "attachments": {},
            "cell_type": "markdown",
            "id": "33f394a0",
            "metadata": {},
            "source": [
                "## Analyst Query Specification"
            ]
        },
        {
            "cell_type": "code",
            "execution_count": null,
            "id": "a38a0f4b",
            "metadata": {},
            "outputs": [],
            "source": [
                "from opentldr import DataRepo\n",
                "\n",
                "# if you plan to only run this notebook multiple times you could clean out the content nodes each time\n",
                "#kg.delete_all_requests()\n",
                "\n",
                "if request_date_repo_config is not None:\n",
                "    repo = DataRepo(kg, request_date_repo_config)\n",
                "    list_of_uids =  repo.importData()\n",
                "    print(\"Loaded {count} requests nodes from the repository.\".format(count=len(list_of_uids)))"
            ]
        },
        {
            "cell_type": "code",
            "execution_count": null,
            "id": "43df1902",
            "metadata": {},
            "outputs": [],
            "source": [
                "for request_node in kg.get_all_requests():\n",
                "    print(\"\\nProcessing {title}:\".format(title=request_node.title))\n",
                "\n",
                "    # avoid adding duplicate entities for the same text value\n",
                "    existing_entities=kg.get_entities_by_request(request_node)\n",
                "    unique=[ e.text for e in existing_entities ]\n",
                "\n",
                "    # perform NER on the entities in the request\n",
                "    for entity in named_entity_recognition(request_node.text):\n",
                "        if entity.label_ not in ['DATE','TIME','MONEY','ORDINAL','PERCENT','QUANTITY']:\n",
                "            if entity.text not in unique:\n",
                "                entity_node = kg.add_entity(content=request_node, text=entity.text, type=entity.label_)\n",
                "                print(\" - Added entity '{text}' of type {type}\".format(text=entity_node.text, type=entity_node.type))\n",
                "                unique.append(entity_node.text)\n"
            ]
        },
        {
            "cell_type": "markdown",
            "id": "cba29c2a",
            "metadata": {},
            "source": [
                "## Verify that we got Requests into the KG\n"
            ]
        },
        {
            "cell_type": "code",
            "execution_count": null,
            "id": "34599f4e",
            "metadata": {},
            "outputs": [],
            "source": [
                "all_requests = kg.get_all_requests()\n",
                "print(\"Found {count} request nodes in the knowledge graph:\".format(count=len(all_requests)))\n",
                "\n",
                "# Iterate thru the Request Nodes and print info for each\n",
                "for request in all_requests:\n",
                "    user=request.get_requested_by()\n",
                "    print(\" - {name} requested '{text}'\".format(\n",
                "        name=user.name, text=request.text))"
            ]
        },
        {
            "attachments": {},
            "cell_type": "markdown",
            "id": "ed544d7d",
            "metadata": {},
            "source": [
                "# Close the KG"
            ]
        },
        {
            "cell_type": "code",
            "execution_count": null,
            "id": "902fe103-5cd3-454b-8084-f6b2b6ff92b1",
            "metadata": {},
            "outputs": [],
            "source": [
                "kg.close()"
            ]
        }
    ],
    "metadata": {
        "kernelspec": {
            "display_name": "opentldr-env",
            "language": "python",
            "name": "python3"
        },
        "language_info": {
            "codemirror_mode": {
                "name": "ipython",
                "version": 3
            },
            "file_extension": ".py",
            "mimetype": "text/x-python",
            "name": "python",
            "nbconvert_exporter": "python",
            "pygments_lexer": "ipython3",
            "version": "3.10.9"
        }
    },
    "nbformat": 4,
    "nbformat_minor": 5
}