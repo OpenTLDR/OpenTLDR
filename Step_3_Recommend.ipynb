{
    "cells": [
        {
            "attachments": {},
            "cell_type": "markdown",
            "id": "b29b70f4-f7b6-48bb-ac19-a75a58504fbc",
            "metadata": {
                "tags": []
            },
            "source": [
                "# Step 3: Recommender - Compute Relevance Between Requests and Articles\n",
                "Attempts to determine how relevent each Content node is to each Request node and builds Recommendation nodes to store that score for highly rated relevance.\n",
                "\n",
                "![step3](resources/Step3_Recommend.png)\n",
                "\n",
                "The result of this step includes:\n",
                "- Recommendation nodes, connected to Content nodes with a RECOMMENDS, and Request nodes with a RELATES_TO relationship"
            ]
        },
        {
            "cell_type": "markdown",
            "id": "cde082e8",
            "metadata": {},
            "source": [
                "## Setup"
            ]
        },
        {
            "cell_type": "code",
            "execution_count": null,
            "id": "96e7cb0d",
            "metadata": {},
            "outputs": [],
            "source": [
                "from opentldr import KnowledgeGraph\n",
                "kg=KnowledgeGraph()\n",
                "\n",
                "import opentldr.Domain as domain"
            ]
        },
        {
            "cell_type": "markdown",
            "id": "967df770",
            "metadata": {},
            "source": [
                "## Parameters\n",
                "OpenTLDR workflows use the notebook block tagged as \"parameters\" to inject variables (for example to change the recommendation thresholds).\n",
                "\n",
                "> **Do Not Change Variable Names in the Parameters Block** you are welcome to change the values of these parameter variables, but please do not change their names. They are used elsewhere in the notebook and in other workflow processes."
            ]
        },
        {
            "cell_type": "code",
            "execution_count": null,
            "id": "0567be2e",
            "metadata": {
                "tags": [
                    "parameters"
                ]
            },
            "outputs": [],
            "source": [
                "#Parameters\n",
                "recommendation_threshold = 0.54\n"
            ]
        },
        {
            "attachments": {},
            "cell_type": "markdown",
            "id": "b703cea8",
            "metadata": {},
            "source": [
                "# Recommend Contents based on their relationships thru the KG to the Request\n",
                "Relevance is scored to include:\n",
                "- The distance of the node, thru the KG from the request\n",
                "- With an integrated penelty for uncertainty in relationships\n",
                "- The average relevance of a nodes neighbors"
            ]
        },
        {
            "attachments": {},
            "cell_type": "markdown",
            "id": "527663ee",
            "metadata": {},
            "source": [
                "## Compute a score for closest nodes in KG based on distance from the query in the graph\n",
                "- The decay_rate determines how much relevance goes down for each hop (default is 10%)"
            ]
        },
        {
            "cell_type": "code",
            "execution_count": null,
            "id": "4205787a",
            "metadata": {},
            "outputs": [],
            "source": [
                "decay_rate=0.1\n",
                "\n",
                "def distance_decay(distance_scores:float, node_id:str, score:float):\n",
                "    #print (\"\\nRecursing on node {id} with score of {score}.\".format(id=node_id, score=score))\n",
                "    node=kg.get_by_uid(node_id)\n",
                "    #print (\"\\tNode is: {}\".format(node.to_text()))\n",
                "    \n",
                "    # Avoid looking along paths that circumvent reference data\n",
                "    nodetype=str(type(node))\n",
                "    for avoid in [\"Source\", \"User\", \"Recommendation\", \"Tldr\", \"Summary\", \"EvalKey\"]:\n",
                "        if avoid in nodetype:\n",
                "            # print(\"\\tAvoiding path through a {type} node.\".format(type=nodetype))\n",
                "            return\n",
                "\n",
                "    prev_score = distance_scores.get(str(node_id),-999)\n",
                "    if prev_score >= score:\n",
                "        #print (\"\\tPreviously at node {id} with score of {prev} vs now with {current}.\".format(id=node_id, prev=prev_score, current=score))\n",
                "        return\n",
                "    else:\n",
                "        #print (\"\\tAssigning node {id} a score of {current}.\".format(id=node_id,current=score))\n",
                "        distance_scores[str(node_id)]= score\n",
                "       \n",
                "    # Since this is the lowest so far, we have to also check its neighbors    \n",
                "    neighbor_records, meta = kg.neo4j_query(\"MATCH (h)<-[]->(n) WHERE h.uid='{uid}' RETURN n.uid\".format(uid=node_id))\n",
                "    for n_record in neighbor_records:\n",
                "        other_id = n_record.data()[\"n.uid\"]\n",
                "\n",
                "        # recurse on nodes that are not too far already\n",
                "        other_score = score - decay_rate\n",
                "        if other_score > 0.0:\n",
                "              distance_decay(distance_scores,other_id, round(other_score,2))\n",
                "\n",
                "    return"
            ]
        },
        {
            "attachments": {},
            "cell_type": "markdown",
            "id": "2075c130",
            "metadata": {},
            "source": [
                "### Average the distance relevance scores for each Article based on its neighbors "
            ]
        },
        {
            "cell_type": "code",
            "execution_count": null,
            "id": "fcb5e0ab",
            "metadata": {},
            "outputs": [],
            "source": [
                "def average_content(distance_scores:dict):\n",
                "    avg_scores=dict()\n",
                "    all_content = kg.get_all_content()\n",
                "    for article in all_content:\n",
                "        acc=distance_scores.get(str(article.uid),0.0);\n",
                "        count=1\n",
                "        if acc > 0.0:\n",
                "            for e in kg.get_entities_by_content(article):\n",
                "                acc+=distance_scores.get(str(e.uid),0.0)\n",
                "                count+=1\n",
                "        avg_scores[str(article.uid)]=round(acc/count,3)\n",
                "    return avg_scores"
            ]
        },
        {
            "attachments": {},
            "cell_type": "markdown",
            "id": "5950fae0",
            "metadata": {},
            "source": [
                "# Process Each Query in the System"
            ]
        },
        {
            "cell_type": "code",
            "execution_count": null,
            "id": "8fad3452",
            "metadata": {},
            "outputs": [],
            "source": [
                "# if you plan to run this notebook repeatedly, you can clear out just the recommendations and redo them\n",
                "# kg.delete_all_recommendations()"
            ]
        },
        {
            "cell_type": "code",
            "execution_count": null,
            "id": "c7680179",
            "metadata": {},
            "outputs": [],
            "source": [
                "from opentldr.Domain import Recommendation, Request, Content\n",
                "\n",
                "all_requests = kg.get_all_requests()\n",
                "\n",
                "for request in all_requests:\n",
                "    distance_scores=dict()\n",
                "    distance_decay(distance_scores,request.uid,1.0)\n",
                "    content_scores=average_content(distance_scores)\n",
                "\n",
                "    print(\"Request: (\"+request.title+\"): \"+request.text)\n",
                "    sorted_recommendations=sorted(content_scores.items(), key=lambda x:x[1], reverse=True)\n",
                "    for art_item in sorted_recommendations:\n",
                "        recommendation_score=art_item[1]\n",
                "        content = kg.get_content_by_uid(art_item[0])\n",
                "\n",
                "        if recommendation_score > recommendation_threshold:\n",
                "            print(\"\\tRecommending:\\t\"+ content.title +\" (\"+str(recommendation_score)+\") \")\n",
                "            kg.add_recommendation(request=request,content=content,score=recommendation_score)\n",
                "        else:\n",
                "            print(\"\\tNOT Recommending:\\t\"+ content.title +\" (\"+str(recommendation_score)+\") \")\n",
                "\n",
                "    print()"
            ]
        },
        {
            "cell_type": "code",
            "execution_count": null,
            "id": "902fe103-5cd3-454b-8084-f6b2b6ff92b1",
            "metadata": {},
            "outputs": [],
            "source": [
                "kg.close()"
            ]
        }
    ],
    "metadata": {
        "kernelspec": {
            "display_name": "opentldr-env",
            "language": "python",
            "name": "python3"
        },
        "language_info": {
            "codemirror_mode": {
                "name": "ipython",
                "version": 3
            },
            "file_extension": ".py",
            "mimetype": "text/x-python",
            "name": "python",
            "nbconvert_exporter": "python",
            "pygments_lexer": "ipython3",
            "version": "3.10.9"
        }
    },
    "nbformat": 4,
    "nbformat_minor": 5
}