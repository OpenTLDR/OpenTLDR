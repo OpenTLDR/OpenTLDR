{
    "cells": [
        {
            "cell_type": "markdown",
            "metadata": {},
            "source": [
                "# Step 5: Produce\n",
                "Creates a TLDR structure for each Request for each day. The TLDR structure consists of a TLDR object linked to a set of TldrEntries with a score.\n",
                "\n",
                "The result of this step includes:\n",
                "- TldrEntry nodes connected to a Summary node with an INCLUDES relationship, and Recommendation nodes with a BASED_ON relationship\n",
                "- TLDR nodes connected to Request nodes with a RESPONSE_TO relationship, and a set of TldrEntry nodes with a PRIORITY relationship (scored for ordering)"
            ]
        },
        {
            "cell_type": "code",
            "execution_count": null,
            "metadata": {},
            "outputs": [],
            "source": [
                "import logging\n",
                "from datetime import date"
            ]
        },
        {
            "cell_type": "markdown",
            "metadata": {},
            "source": [
                "## Parameters\n",
                "OpenTLDR workflows use the notebook block tagged as \"parameters\" to inject variables (for example where to store TLDR outputs).\n",
                "\n",
                "> **Do Not Change Variable Names in the Parameters Block** you are welcome to change the values of these parameter variables, but please do not change their names. They are used elsewhere in the notebook and in other workflow processes."
            ]
        },
        {
            "cell_type": "code",
            "execution_count": null,
            "metadata": {
                "tags": [
                    "parameters"
                ]
            },
            "outputs": [],
            "source": [
                "#Parameters\n",
                "# Logging level ranges are (from least to most verbose): ERROR, WARN, INFO, DEBUG\n",
                "logging_level= logging.INFO\n",
                "\n",
                "# List of the UniqueIds of Requests to add summaries\n",
                "list_of_uids = None\n",
                "\n",
                "# level of unnecessary output\n",
                "verbose = True\n"
            ]
        },
        {
            "cell_type": "markdown",
            "metadata": {},
            "source": []
        },
        {
            "cell_type": "code",
            "execution_count": null,
            "metadata": {},
            "outputs": [],
            "source": [
                "logging.getLogger(\"OpenTLDR\").setLevel(logging_level)\n",
                "\n",
                "from opentldr import KnowledgeGraph\n",
                "kg=KnowledgeGraph()\n",
                "\n",
                "from opentldr.Domain import Tldr, TldrEntry, Recommendation, Summary"
            ]
        },
        {
            "cell_type": "markdown",
            "metadata": {},
            "source": []
        },
        {
            "cell_type": "code",
            "execution_count": null,
            "metadata": {},
            "outputs": [],
            "source": [
                "if list_of_uids is None:\n",
                "    # default to getting all Requests\n",
                "    list_of_uids = kg.get_all_node_uids_by_tag(\"Request\")"
            ]
        },
        {
            "cell_type": "markdown",
            "metadata": {},
            "source": [
                "# Produce a TDRL for each Request\n"
            ]
        },
        {
            "cell_type": "code",
            "execution_count": null,
            "metadata": {},
            "outputs": [],
            "source": [
                "today = date.today()\n",
                "\n",
                "# Produce a TLDR for each Request in the Knowledgebase\n",
                "for request_uid in list_of_uids:\n",
                "    request = kg.get_request_by_uid(request_uid)\n",
                "\n",
                "    # New TLDR for each day\n",
                "    tldr=kg.add_tldr(request,today)\n",
                "    print(\"\\nTLDR for {title} on {today}\\nRequest: {request}\".format(title=request.title,today=today,request=request.text))\n",
                "\n",
                "    # If an TLDR already exists for this day, remove previouse Entries\n",
                "    kg.delete_tldr_entries_by_tldr(tldr)\n",
                "\n",
                "    # Generate an Entry for each Recommendation that relates_to this Request\n",
                "    recommendation_list = kg.get_recommendations_by_request(request)\n",
                "    for recommendation in recommendation_list:\n",
                "        #Include the summary that focus_on this Recommendation\n",
                "        summary_list=kg.get_summaries_by_recommendation(recommendation)\n",
                "\n",
                "        if summary_list is not None and len(summary_list) > 0:\n",
                "            # The schema allows for mulitple summaries, but we only need one\n",
                "            summary=summary_list[0] # just using first one\n",
                "            original_content=summary.summarizes.single()\n",
                "\n",
                "            # Create a new Entry for this TLDR\n",
                "            tldr_entry=kg.add_entry_to_tldr(tldr=tldr,\n",
                "                score=recommendation.score,\n",
                "                recommendation=recommendation,\n",
                "                summary=summary,\n",
                "                content=original_content)\n",
                "            \n",
                "            # Produce some info and print the entries out\n",
                "            original_size=len(original_content.text)\n",
                "            summary_size=len(summary.text)\n",
                "            #reduction = round(((original_size-summary_size)/original_size)*100,1)\n",
                "\n",
                "            print(\"\\u2022 {title} [{url}]: {summary}\".format(\n",
                "                summary=summary.text,\n",
                "                title=original_content.title, \n",
                "                url=original_content.url\n",
                "            ))\n",
                "        else:\n",
                "            print(\"No summary found for TLDR entry.\")"
            ]
        },
        {
            "cell_type": "code",
            "execution_count": null,
            "metadata": {},
            "outputs": [],
            "source": [
                "kg.close()"
            ]
        }
    ],
    "metadata": {
        "kernelspec": {
            "display_name": "opentldr-env",
            "language": "python",
            "name": "python3"
        },
        "language_info": {
            "codemirror_mode": {
                "name": "ipython",
                "version": 3
            },
            "file_extension": ".py",
            "mimetype": "text/x-python",
            "name": "python",
            "nbconvert_exporter": "python",
            "pygments_lexer": "ipython3",
            "version": "3.10.9"
        }
    },
    "nbformat": 4,
    "nbformat_minor": 4
}