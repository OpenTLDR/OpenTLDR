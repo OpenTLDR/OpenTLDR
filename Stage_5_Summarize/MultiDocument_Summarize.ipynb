{
    "cells": [
        {
            "cell_type": "markdown",
            "metadata": {
                "tags": []
            },
            "source": [
                "# Summarize Multiple Documents\n",
                "Uses the recommendations and related paths to focus an LLM summerization on the relevant information.\n",
                "\n",
                "This notebook depends on the Content nodes already having summaries included in metadata.\n",
                "This is performed by either the \"Abstractive Summary\" notebook or the \n",
                "\n",
                "The result of this step includes:\n",
                "- Summary nodes, connected to Content nodes with a SUMMARIZES relationship and to Recommendation nodes with a FOCUS_ON relationship"
            ]
        },
        {
            "cell_type": "markdown",
            "metadata": {},
            "source": [
                "## Setup"
            ]
        },
        {
            "cell_type": "code",
            "execution_count": null,
            "metadata": {},
            "outputs": [],
            "source": [
                "import os\n",
                "import logging\n"
            ]
        },
        {
            "cell_type": "markdown",
            "metadata": {},
            "source": [
                "## Parameters\n",
                "OpenTLDR workflows use the notebook block tagged as \"parameters\" to inject variables (for example to change the LLM model).\n",
                "\n",
                "> **Do Not Change Variable Names in the Parameters Block** you are welcome to change the values of these parameter variables, but please do not change their names. They are used elsewhere in the notebook and in other workflow processes."
            ]
        },
        {
            "cell_type": "code",
            "execution_count": null,
            "metadata": {
                "tags": [
                    "parameters"
                ]
            },
            "outputs": [],
            "source": [
                "#Parameters\n",
                "\n",
                "# When run an LLM locally, you need to download the model to your local machine\n",
                "llm_config = {'type': 'GPT4ALL', 'device':'gpu', 'model':'../LLM_Models/mistral-7b-openorca.gguf2.Q4_0.gguf'}\n",
                "llm_config = {'type': 'Ollama', 'device':'local', 'model':'mistral:latest'}\n",
                "\n",
                "llm_prompt = '''\n",
                "        How do the following articles address: \"{request}\"?\n",
                "        In your response, first identify what the articles have in common.\n",
                "        Second, your response should include highlights of the main differences between the articles.\n",
                "        The articles below are preceded by their title and separated from the other summaries using '========'. \\n\n",
                "        Summarize the following articles:\\n {multicontent}\n",
                "    '''\n",
                "\n",
                "# Logging level ranges are (from least to most verbose): ERROR, WARN, INFO, DEBUG\n",
                "logging_level = logging.INFO\n",
                "\n",
                "# List of the UniqueIds to Ingest\n",
                "list_of_uids = None\n",
                "\n",
                "# level of unnecessary output\n",
                "verbose = True"
            ]
        },
        {
            "cell_type": "code",
            "execution_count": null,
            "metadata": {},
            "outputs": [],
            "source": [
                "logging.getLogger(\"OpenTLDR\").setLevel(logging_level)\n",
                "\n",
                "from opentldr import KnowledgeGraph\n",
                "kg=KnowledgeGraph()\n",
                "\n",
                "import opentldr.Domain as domain"
            ]
        },
        {
            "cell_type": "markdown",
            "metadata": {},
            "source": [
                "### Load Content"
            ]
        },
        {
            "cell_type": "code",
            "execution_count": null,
            "metadata": {},
            "outputs": [],
            "source": [
                "if list_of_uids is None:\n",
                "    list_of_uids = kg.get_all_node_uids_by_tag(\"Request\")\n",
                "\n",
                "if verbose:\n",
                "    print (\"Found {} Request nodes to attempt multi-document summarization.\".format(len(list_of_uids)))"
            ]
        },
        {
            "cell_type": "markdown",
            "metadata": {},
            "source": [
                "## Run an LLM Model\n",
                "This cell setups of access to a (usually locally running) LLM based on the llm_config parameter.\n",
                "\n",
                "Ollama: runs locally with the Ollama service\n",
                "- You need to start the Ollama server (ollama serve)\n",
                "- It will attempt to pull models based on config\n",
                "\n",
                "GPT4ALL: runs locally with a .gguf formatted model.\n",
                "- When you run an LLM localling using GPT4ALL, you need to download a model file to your local machine.\n",
                "- Model files are large and not part of the git repository.\n",
                "- You can download them from here: https://gpt4all.io under \"Model Explorer\" and put them in a \"models\" folder.\n",
                "\n",
                "All:\n",
                "- Be sure to check the license for the model before using."
            ]
        },
        {
            "cell_type": "code",
            "execution_count": null,
            "metadata": {},
            "outputs": [],
            "source": [
                "from SummarizeWithGPT4All import SummarizeWithGPT4All\n",
                "from SummarizeWithLocalOllama import SummarizeWithLocalOllama\n",
                "\n",
                "llm = None\n",
                "\n",
                "match (llm_config['type'].lower()):\n",
                "    case \"gpt4all\": \n",
                "        llm = SummarizeWithGPT4All(llm_config['model'],device=llm_config['device'], logging_level=logging_level)\n",
                "\n",
                "    case \"ollama\":\n",
                "        # TODO config for local and remote ollama services\n",
                "        llm = SummarizeWithLocalOllama(model_name=llm_config['model'], logging_level=logging_level)\n",
                "    case _:\n",
                "        raise ValueError(\"No LLM type support for {}.\".format(llm_config['type']))"
            ]
        },
        {
            "cell_type": "markdown",
            "metadata": {},
            "source": [
                "## Build the prompt and run the LLM\n",
                "This includes the original content, the request it is tailored for, and the explaination of the shortest path through the knowledge graph used to connect them."
            ]
        },
        {
            "cell_type": "code",
            "execution_count": null,
            "metadata": {},
            "outputs": [],
            "source": [
                "def run_group_summary(kg:KnowledgeGraph, request:domain.Request) -> str:\n",
                "    len_original=0\n",
                "    len_summaries=0\n",
                "    multisum=\"\"\n",
                "    multidoc_summary=\"Sorry - No Group Summary Created.\"\n",
                "    print(\"summarizing recommendations for request {}\".format(request.title))\n",
                "\n",
                "    recommendations = kg.get_recommendations_by_request(request)\n",
                "    # in the case there is only one, just sent that summary instead\n",
                "    if len(recommendations) == 1:\n",
                "        return \"Only one recommendation.\"\n",
                "\n",
                "    for recommendation in recommendations:\n",
                "        for content in recommendation.recommends:\n",
                "            print (\"Recommended {title} ({score}): {url}\".format(title=content.title, score=round(recommendation.score,3),url=content.url))\n",
                "            len_original += len(content.text)\n",
                "\n",
                "            if content.metadata is not None:\n",
                "                summary=content.metadata[\"summary\"]\n",
                "                len_summaries += len(summary)\n",
                "\n",
                "                if len(summary) > 0:\n",
                "                    multisum+=\"\\n\\n========n\\n\\nArticle Title: {}:\\n\".format(content.title)\n",
                "                    multisum+=\"{}\\n\".format(summary)\n",
                "\n",
                "            else:\n",
                "                print(\"skipping - no metadata summary found\")\n",
                "\n",
                "    if len(multisum) > 0:\n",
                "        prompt_text = llm_prompt.format(multicontent=multisum, request=request.text)\n",
                "        multidoc_summary= llm.summarize(prompt_text)\n",
                "        \n",
                "        print(\"\\nSummary reduced {reduction}% of content:\\t{text}\".format(reduction=round(((len_original-len(multidoc_summary))/len_original)*100,1),text=multidoc_summary))\n",
                "\n",
                "    return multidoc_summary"
            ]
        },
        {
            "cell_type": "code",
            "execution_count": null,
            "metadata": {},
            "outputs": [],
            "source": [
                "for uid in list_of_uids:\n",
                "    request = kg.get_request_by_uid(uid)\n",
                "\n",
                "    summary = run_group_summary(kg, request)\n",
                "\n",
                "    tldr = kg.get_tldr_by_request(request)\n",
                "\n",
                "    if tldr is not None:\n",
                "        tldr.metadata[\"summary\"]= summary\n",
                "        tldr.save()\n",
                "    else:\n",
                "        print(summary)\n",
                "    "
            ]
        },
        {
            "cell_type": "code",
            "execution_count": null,
            "metadata": {},
            "outputs": [],
            "source": [
                "kg.close()"
            ]
        }
    ],
    "metadata": {
        "kernelspec": {
            "display_name": "opentldr-env",
            "language": "python",
            "name": "python3"
        },
        "language_info": {
            "codemirror_mode": {
                "name": "ipython",
                "version": 3
            },
            "file_extension": ".py",
            "mimetype": "text/x-python",
            "name": "python",
            "nbconvert_exporter": "python",
            "pygments_lexer": "ipython3",
            "version": "3.10.9"
        }
    },
    "nbformat": 4,
    "nbformat_minor": 4
}