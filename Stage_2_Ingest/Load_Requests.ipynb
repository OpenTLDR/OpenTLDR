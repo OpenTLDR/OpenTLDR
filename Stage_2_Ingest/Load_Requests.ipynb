{
    "cells": [
        {
            "attachments": {},
            "cell_type": "markdown",
            "id": "b29b70f4-f7b6-48bb-ac19-a75a58504fbc",
            "metadata": {},
            "source": [
                "# Load Requests (This is a subsitute for getting Requests from the User Inteface)\n",
                "\n",
                "This notebook reads stored user Requests from a DataRepo and ingests them as nodes into your KnowledgeGraph.\n",
                "\n",
                "* Iterate through the requests in the repository\n",
                "\n",
                "* For each Request:\n",
                "- Create (or merge) a Request node\n",
                "- Link the Request node to the User node (create if necessary)\n",
                "- Load known Keywords (in Ref Data) and create Entities for any that exist in the Request Node\n",
                "- Run Named Entity Recognition on the Request Node text and create Entities for any found\n",
                "\n",
                "The result of this step includes adding:\n",
                "- User nodes (existing or newly created)\n",
                "- Request nodes, connected to User nodes with an REQUESTED_BY relationship\n",
                "- Entity nodes, connected to Request node by a MENTIONED_IN relationship\n"
            ]
        },
        {
            "cell_type": "code",
            "execution_count": null,
            "id": "38362509",
            "metadata": {},
            "outputs": [],
            "source": [
                "import os\n",
                "import logging\n",
                "import re"
            ]
        },
        {
            "cell_type": "markdown",
            "id": "4bd926e2",
            "metadata": {},
            "source": [
                "## Parameters\n",
                "OpenTLDR workflows use the notebook block tagged as \"parameters\" to inject variables (for example to configure special requests).\n",
                "\n",
                "> **Do Not Change Variable Names in the Parameters Block** you are welcome to change the values of these parameter variables, but please do not change their names. They are used elsewhere in the notebook and in other workflow processes."
            ]
        },
        {
            "cell_type": "code",
            "execution_count": null,
            "id": "1fc286a3",
            "metadata": {
                "tags": [
                    "parameters"
                ]
            },
            "outputs": [],
            "source": [
                "# Notebook Specific Parameters\n",
                "data_repo_config = {'repo_type': 'files', 'path': '../Data/Sample/request'}\n",
                "spacy_model = \"en_core_web_sm\"\n",
                "\n",
                "# Standard Parameters \n",
                "\n",
                "# Logging level ranges are (from least to most verbose): ERROR, WARN, INFO, DEBUG\n",
                "logging_level = logging.INFO\n",
                "\n",
                "# List of the Request Uids to Ingest\n",
                "list_of_uids = None\n",
                "\n",
                "# level of unnecessary output\n",
                "verbose = True"
            ]
        },
        {
            "cell_type": "markdown",
            "id": "a1a15d00",
            "metadata": {},
            "source": [
                "## Setup"
            ]
        },
        {
            "cell_type": "code",
            "execution_count": null,
            "id": "b5801532",
            "metadata": {},
            "outputs": [],
            "source": [
                "logging.getLogger(\"OpenTLDR\").setLevel(logging_level)\n",
                "\n",
                "from opentldr.Domain import User, Request, Entity\n",
                "from opentldr import KnowledgeGraph, DataRepo\n",
                "\n",
                "kg=KnowledgeGraph()"
            ]
        },
        {
            "cell_type": "markdown",
            "id": "9637aca5",
            "metadata": {},
            "source": [
                "## Ingest Requests from the data repo into the KG"
            ]
        },
        {
            "cell_type": "code",
            "execution_count": null,
            "id": "bccc4902",
            "metadata": {},
            "outputs": [],
            "source": [
                "if data_repo_config is not None:\n",
                "    \n",
                "    repo = DataRepo(kg,data_repo_config)\n",
                "    \n",
                "    if verbose:\n",
                "        print(\"Loading Requests from: {}\".format(repo.describe()))\n",
                "    \n",
                "    list_of_uids =  repo.importData()\n",
                "    \n",
                "    print(\"Loaded {count} requests from the repository.\".format(count=len(list_of_uids)))\n",
                "else:\n",
                "    print(\"No DataRepo specified for Requests.\")"
            ]
        },
        {
            "cell_type": "markdown",
            "id": "c83c9124",
            "metadata": {},
            "source": [
                "## Process the newly created Request nodes\n"
            ]
        },
        {
            "attachments": {},
            "cell_type": "markdown",
            "id": "85992072",
            "metadata": {},
            "source": [
                "### Named Entity Recognition (NER)\n",
                "\n",
                "This is the process of detecting objects that are identified within the text.\n"
            ]
        },
        {
            "cell_type": "code",
            "execution_count": null,
            "id": "83e0c5e9",
            "metadata": {},
            "outputs": [],
            "source": [
                "from NerWithSpacy import *\n",
                "ner = NerWithSpacy(verbose=True, model_name=spacy_model)"
            ]
        },
        {
            "cell_type": "markdown",
            "id": "2fd3c99e",
            "metadata": {},
            "source": [
                "### Keywords\n",
                "One example of such an entity are the presense of keywords."
            ]
        },
        {
            "cell_type": "code",
            "execution_count": null,
            "id": "0d4f7768",
            "metadata": {},
            "outputs": [],
            "source": [
                "keywords = []\n",
                "\n",
                "for node in kg.get_all_reference_nodes():\n",
                "    if node.type == \"KEYWORD\":\n",
                "        keywords.append(node.text)\n",
                "if verbose:\n",
                "    print(\"Will look for {} known keywords: {}\".format(len(keywords),keywords))"
            ]
        },
        {
            "cell_type": "markdown",
            "id": "c42d3073",
            "metadata": {},
            "source": [
                "### Discover Entities in the Request node's text\n",
                "Iterate over the imported Requests, recognize entities of interest, and add those nodes to the KG"
            ]
        },
        {
            "cell_type": "code",
            "execution_count": null,
            "id": "ce5e8461",
            "metadata": {},
            "outputs": [],
            "source": [
                "for uid in list_of_uids:\n",
                "    node = kg.get_request_by_uid(uid)\n",
                "    if verbose:\n",
                "        print(\"\\nProcessing Request {title}:\".format(title=node.title))\n",
                "    \n",
                "    # avoid adding duplicate entities for the same text value\n",
                "    ner.skip = [ e.text for e in kg.get_entities_by_content(node) ]\n",
                "\n",
                "   # Iterate Keywords first\n",
                "    for keyword in keywords:\n",
                "        if keyword not in ner.skip:\n",
                "            if re.search(keyword, node.text, re.IGNORECASE):\n",
                "                entity_node=kg.add_entity(node,text=keyword, type=\"KEYWORD\")\n",
                "                ner.skip.append(entity_node.text)\n",
                "                if verbose:\n",
                "                    print(\" - Added entity '{text}' of type {type}\".format(text=entity_node.text, type=entity_node.type))\n",
                "    \n",
                "\n",
                "    # Then search for Named Entities (avoid text being both)\n",
                "    for type, text in ner.process(node.text):\n",
                "        kg.add_entity(node = node, text=text, type=type)\n",
                "        ner.skip.append(text)\n",
                "        if verbose:\n",
                "            print(\" - Added entity '{text}' of type {type}\".format(text=text, type=type))"
            ]
        },
        {
            "attachments": {},
            "cell_type": "markdown",
            "id": "ed544d7d",
            "metadata": {},
            "source": [
                "# Close the KG"
            ]
        },
        {
            "cell_type": "code",
            "execution_count": null,
            "id": "902fe103-5cd3-454b-8084-f6b2b6ff92b1",
            "metadata": {},
            "outputs": [],
            "source": [
                "kg.close()"
            ]
        }
    ],
    "metadata": {
        "kernelspec": {
            "display_name": "opentldr-env",
            "language": "python",
            "name": "python3"
        },
        "language_info": {
            "codemirror_mode": {
                "name": "ipython",
                "version": 3
            },
            "file_extension": ".py",
            "mimetype": "text/x-python",
            "name": "python",
            "nbconvert_exporter": "python",
            "pygments_lexer": "ipython3",
            "version": "3.12.3"
        }
    },
    "nbformat": 4,
    "nbformat_minor": 5
}