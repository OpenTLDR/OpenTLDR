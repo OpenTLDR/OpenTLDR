{
    "cells": [
        {
            "attachments": {},
            "cell_type": "markdown",
            "id": "22652f6a-3d56-4a25-9c2c-7d149882e084",
            "metadata": {},
            "source": [
                "# Step 0: Initialize\n",
                "This notebook performs initialization of your Knowledge Graph.\n",
                "\n",
                "![step0](resources/Step0_Initialize.png)\n",
                "\n",
                "* Import OpenTLDR Knowledge Graph class - which automatically uses your .env to connect to Neo4J.\n",
                "* Wipe the current database clean to start at a known state. WARNING: This deletes everything!\n",
                "* Load a file that contains any Reference Knowledge (in a Cypher syntax or from CSV files)\n",
                "\n",
                "The result of this step includes:\n",
                "- A clear KG\n",
                "- ReferenceNode nodes connected to each other with ReferenceEdge edges"
            ]
        },
        {
            "cell_type": "markdown",
            "id": "246de5ac",
            "metadata": {},
            "source": [
                "## Setup Imports and Logging Level\n",
                "> Setting the logging level will change the amount of extra output you see.\n",
                "\n",
                "Uncomment the logging level you wish to see."
            ]
        },
        {
            "cell_type": "code",
            "execution_count": null,
            "id": "76bb07cd",
            "metadata": {},
            "outputs": [],
            "source": [
                "import os\n",
                "import logging\n",
                "\n",
                "#from dotenv import load_dotenv\n",
                "#load_dotenv(\"./.env\")\n",
                "\n",
                "#logging.getLogger(\"OpenTLDR\").setLevel(logging.ERROR)  # Less output\n",
                "logging.getLogger(\"OpenTLDR\").setLevel(logging.WARN)   # Default\n",
                "#logging.getLogger(\"OpenTLDR\").setLevel(logging.INFO)   # More output\n",
                "#logging.getLogger(\"OpenTLDR\").setLevel(logging.DEBUG)  # So much output\n"
            ]
        },
        {
            "cell_type": "markdown",
            "id": "8fd1f6a1",
            "metadata": {},
            "source": [
                "## Parameters\n",
                "OpenTLDR workflows use the notebook block tagged as \"parameters\" to inject variables (for example to point to a different source of Reference Data).\n",
                "\n",
                "> **Do Not Change Variable Names in the Parameters Block**<BR>This is particularly true for those variables in the Workflow Parameters section, because those are known to be overridden for various workflows. You are welcome to change the values of these parameter variables or add news ones but please do not change their names or delete them without understanding how they get used. They coud be used elsewhere in the notebook, other notebooks, and/or in other workflow processes."
            ]
        },
        {
            "cell_type": "code",
            "execution_count": null,
            "id": "4e2006b6",
            "metadata": {
                "tags": [
                    "parameters"
                ]
            },
            "outputs": [],
            "source": [
                "# Workflow Parameters - these may be overridden by the Workflow\n",
                "message = \"Used default values in the Notebooks 'parameters' block.\"\n",
                "\n",
                "ref_date_repo_config= {'repo_type': 'files', 'path': './sample_data/reference'}\n",
                "\n",
                "# Example of using S3 repo with .env configuration (to avoid key leakage)\n",
                "#ref_date_repo_config = {\n",
                "#        'repo_type': 's3',\n",
                "#        'bucket': os.getenv(\"S3_BUCKET\"),\n",
                "#        'aws_access_key_id': os.getenv(\"S3_ACCESS_KEY_ID\"),\n",
                "#        'aws_secret_access_key': os.getenv(\"S3_SECRET_KEY\"),\n",
                "#        'prefix': 'reference'\n",
                "#        }\n",
                "\n",
                "#clean_policy = \"live\"       # 'live' assumes the workflow runs once per day, keeps requests and TLDR data but not content. This is used on the live server.\n",
                "#clean_policy = \"keep\"       # 'keep' will simply keep whatever happens to be in the KG at the time. Be careful with this.\n",
                "clean_policy = \"fresh\"      # 'fresh' (or anything else) deletes everything in the KG each time the workflow is run. This is the default.\n"
            ]
        },
        {
            "cell_type": "markdown",
            "id": "e4d34154",
            "metadata": {},
            "source": [
                "## Example of Parameter passing in Action:\n",
                "Let's verify that the parameters are working as expected.\n",
                "\n",
                "If you are running this notebook directly, you should see the value set in the above cell (which is tagged 'parameters'), by default that is: \n",
                "<pre>Used default values in the Notebooks 'parameters' block.</pre>\n",
                "\n",
                "If you are running this notebook thru the default workflow, then you will be looking at the READ ONLY outputed notebooks (by default this is stored in the \"./READ_ONLY_OUTPUT\" folder) and you should see the value set in the Workflow.ipynb notebook, by default that is: \n",
                "<pre>Successfully passed in parameters from Workflow.ipynb!</pre>"
            ]
        },
        {
            "cell_type": "code",
            "execution_count": null,
            "id": "c311355d",
            "metadata": {},
            "outputs": [],
            "source": [
                "print(message)"
            ]
        },
        {
            "attachments": {},
            "cell_type": "markdown",
            "id": "b5975501-f3e1-46e9-a870-affc262e1085",
            "metadata": {},
            "source": [
                "## Initialize and Import an OpenTLDR Knowledge Graph\n",
                "The KnowledgeGraph() contructor should be called without parameters so that it defaults to using .env and environment variables.\n",
                "The order of is:\n",
                "\n",
                "1 Set in KnowledgeGraph() constructor\n",
                "\n",
                "- You can set each variable and it will create the driver\n",
                "- You can setup a neo4j driver instance and pass that in\n",
                "- **We advise NOT using this method** , as your notebook's code will overrule the automation configurations\n",
                "\n",
                "2 Set as Environment variable\n",
                "- This is how several automated processes operate, but this is not intended for most users\n",
                "\n",
                "3 Set in the .env file (in project directory)\n",
                "- **This is the recommended place for you to set system-specific things!**\n",
                "- This file is not part of the GitHub repository you cloned, instead you or a setup script must create it (usually this\n",
                "is done by copying the DefaultDotEnv file to .env (e.g., cp ./DefaultDotEnv ./.env))\n",
                "\n",
                "4 Defaults that are hard coded will work with the provided neo4j container setup, but probably not much else:\n",
                "\n",
                "| Variable | Value | Description |\n",
                "|---|---|---|\n",
                "| NEO4J_CONNECTION | 'neo4j://localhost:7687' | URL for bolt protocol on default port of localhost only |\n",
                "| NEO4J_USERNAME | neo4jUser | user and password are not used for default localhost only container |\n",
                "| NEO4J_PASSWORD | neo4jPassword | user and password are not used for default localhost only container |\n",
                "| NEO4J_DATABASE | neo4j | community edition of neo4j ONLY allows one database |"
            ]
        },
        {
            "cell_type": "code",
            "execution_count": null,
            "id": "173be13b-5f0b-45e1-8438-571e3f09b28a",
            "metadata": {
                "tags": []
            },
            "outputs": [],
            "source": [
                "from opentldr import KnowledgeGraph\n",
                "kg=KnowledgeGraph()"
            ]
        },
        {
            "attachments": {},
            "cell_type": "markdown",
            "id": "5fb656e9",
            "metadata": {},
            "source": [
                "# Initialize the Graph Database\n",
                "> **WARNING: this will erase data in the current KG and cannot be undone.**\n",
                "> Please be sure that this is what you want to do before running this cell. You can turn off this behavior in the parameters block using by setting the 'clean_policy' variable to \"keep\".\n",
                "\n",
                "The kg.delete_all() method is equivelent to running the Cipher command \"MATCH(x) DETACH DELETE x\" which matches any node and then deletes it and any connected edges."
            ]
        },
        {
            "cell_type": "code",
            "execution_count": null,
            "id": "9c36efd1",
            "metadata": {},
            "outputs": [],
            "source": [
                "match clean_policy:\n",
                "    case \"live\":\n",
                "        print(\"Cleaning KG of previous non-persistent content.\")\n",
                "        # does not delete Requests, Users, Sources, TLDRs, or Reference Knowledge\n",
                "        kg.delete_all_evalkeys()\n",
                "        kg.delete_all_recommendations()\n",
                "        kg.delete_all_summaries()\n",
                "        kg.delete_all_content()\n",
                "    case \"keep\":\n",
                "        print(\"Not cleaning KG, keeping whatever is there.\")\n",
                "        pass\n",
                "    case _:\n",
                "        print(\"Cleaning KG for a fresh start.\")\n",
                "        # removes everything..\n",
                "        kg.delete_all()\n"
            ]
        },
        {
            "cell_type": "markdown",
            "id": "4608802d",
            "metadata": {},
            "source": [
                "## Loading the Reference Data\n",
                "The following cell uses the OpenTLDR Content Repo to load Reference Data.\n",
                "\n",
                "> **Reference Data** enables the definition of knowledge that is known but may not be explicitly called out within any specific article. Within a particular domain there is often \"common knowledge\" that is assumed by formalizing this knowledge in a graph, it can be automatically reasoned about in connection with other information. "
            ]
        },
        {
            "cell_type": "code",
            "execution_count": null,
            "id": "5b8f1647",
            "metadata": {},
            "outputs": [],
            "source": [
                "from opentldr import DataRepo\n",
                "\n",
                "if ref_date_repo_config is not None:\n",
                "    repo = DataRepo(kg, ref_date_repo_config)\n",
                "    list_of_uids =  repo.importData()\n",
                "    print(\"Loaded {count} reference nodes and edges from the repository.\".format(count=len(list_of_uids)))"
            ]
        },
        {
            "cell_type": "markdown",
            "id": "756bb183",
            "metadata": {},
            "source": [
                "## Verify what ReferenceData has been loaded the KG\n",
                "This simply pulls all the ReferenceNodes from the KG and prints them."
            ]
        },
        {
            "cell_type": "code",
            "execution_count": null,
            "id": "fe6538bb",
            "metadata": {},
            "outputs": [],
            "source": [
                "# Makes a cypher query to the KG\n",
                "# all_reference_nodes= kg.cypher_query_to_list(\"MATCH (x:ReferenceNode) RETURN x\",\"x\")\n",
                "all_reference_nodes= kg.get_all_reference_nodes()\n",
                "\n",
                "print(\"Found {count} reference nodes in the knowledge graph:\".format(count=len(all_reference_nodes)))\n",
                "\n",
                "# Iterate thru the Reference Nodes and print info for each\n",
                "for reference_node in all_reference_nodes:\n",
                "    print(\" - {type}({uid}):\\t{text}\".format(\n",
                "        type=reference_node.type, uid=reference_node.uid, text=reference_node.text))"
            ]
        },
        {
            "attachments": {},
            "cell_type": "markdown",
            "id": "ba279766-e272-4ce1-a4df-43efb77fb86d",
            "metadata": {
                "tags": []
            },
            "source": [
                "# Close down the remote connections to the database"
            ]
        },
        {
            "cell_type": "code",
            "execution_count": null,
            "id": "75e11866-eb61-4bc3-894a-55f8105d59f1",
            "metadata": {},
            "outputs": [],
            "source": [
                "kg.close()"
            ]
        }
    ],
    "metadata": {
        "kernelspec": {
            "display_name": "opentldr-env",
            "language": "python",
            "name": "python3"
        },
        "language_info": {
            "codemirror_mode": {
                "name": "ipython",
                "version": 3
            },
            "file_extension": ".py",
            "mimetype": "text/x-python",
            "name": "python",
            "nbconvert_exporter": "python",
            "pygments_lexer": "ipython3",
            "version": "3.10.9"
        }
    },
    "nbformat": 4,
    "nbformat_minor": 5
}