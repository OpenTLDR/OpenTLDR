{
    "cells": [
        {
            "attachments": {},
            "cell_type": "markdown",
            "id": "b29b70f4-f7b6-48bb-ac19-a75a58504fbc",
            "metadata": {
                "tags": []
            },
            "source": [
                "# Stage 4: Build a Similarity map using Shortest Pathes Between Sections and TextChunks in Technical Documents\n",
                "This is not intended for a TLDR, rather it provides a way to compare relationships between Content (specifically technical documents that have been in enriched with section and textchunk nodes)\n",
                "\n",
                "The result of this step includes:\n",
                "- A network of \"Similarity Nodes\" that pairwise link text chunks."
            ]
        },
        {
            "cell_type": "code",
            "execution_count": null,
            "id": "556dd7c0",
            "metadata": {},
            "outputs": [],
            "source": [
                "import logging"
            ]
        },
        {
            "cell_type": "markdown",
            "id": "967df770",
            "metadata": {},
            "source": [
                "## Parameters\n",
                "OpenTLDR workflows use the notebook block tagged as \"parameters\" to inject variables (for example to change the recommendation thresholds).\n",
                "\n",
                "> **Do Not Change Variable Names in the Parameters Block** you are welcome to change the values of these parameter variables, but please do not change their names. They are used elsewhere in the notebook and in other workflow processes."
            ]
        },
        {
            "cell_type": "code",
            "execution_count": null,
            "id": "0567be2e",
            "metadata": {
                "tags": [
                    "parameters"
                ]
            },
            "outputs": [],
            "source": [
                "#Parameters\n",
                "similarity_threshold = 0.70\n",
                "\n",
                "delete_existing_similarities = True\n",
                "\n",
                "# Logging level ranges are (from least to most verbose): ERROR, WARN, INFO, DEBUG\n",
                "logging_level = logging.INFO\n",
                "\n",
                "# List of the Content nodes to start from\n",
                "list_of_uids = None\n",
                "\n",
                "# level of unnecessary output\n",
                "verbose = True\n"
            ]
        },
        {
            "cell_type": "markdown",
            "id": "cde082e8",
            "metadata": {},
            "source": [
                "## Setup"
            ]
        },
        {
            "cell_type": "code",
            "execution_count": null,
            "id": "96e7cb0d",
            "metadata": {},
            "outputs": [],
            "source": [
                "logging.getLogger(\"OpenTLDR\").setLevel(logging_level)\n",
                "\n",
                "import opentldr.Domain as domain\n",
                "from opentldr.Domain import Request, Content, Recommendation\n",
                "\n",
                "import opentldr.ContentEnrichment as domain\n",
                "from opentldr.ContentEnrichment import TechnicalPaper, Section, TextChunk, Enrichment, Similarity\n",
                "\n",
                "from opentldr import KnowledgeGraph\n",
                "kg=KnowledgeGraph()\n"
            ]
        },
        {
            "cell_type": "code",
            "execution_count": null,
            "id": "659dcb3e",
            "metadata": {},
            "outputs": [],
            "source": [
                "new_uids = []\n",
                "prev_uids = []\n",
                "\n",
                "if list_of_uids is None:\n",
                "    new_uids = kg.get_all_node_uids_by_tag('Content')\n",
                "else:\n",
                "    prev_uids = kg.get_all_node_uids_by_tag('Content')\n",
                "    new_uids.append(list_of_uids)\n",
                "\n",
                "if verbose:\n",
                "    print(\"Found {} New nodes to process and {} Previous nodes.\".format(len(new_uids),len(prev_uids)))"
            ]
        },
        {
            "cell_type": "code",
            "execution_count": null,
            "id": "5f93565f",
            "metadata": {},
            "outputs": [],
            "source": [
                "if delete_existing_similarities:\n",
                "    kg.cypher_query(\"MATCH (s:Similarity) DETACH DELETE s \")"
            ]
        },
        {
            "cell_type": "markdown",
            "id": "a49c2fce",
            "metadata": {},
            "source": [
                "# KRAG - a pre-computable similarity matrix in the KG that can be used for RAG queries\n",
                "This is a simple implementation of a RAG database constructed within the KG that doesn't depend on embedding vectors."
            ]
        },
        {
            "cell_type": "code",
            "execution_count": null,
            "id": "53690c4a",
            "metadata": {},
            "outputs": [],
            "source": [
                "def get_score(kg:KnowledgeGraph, from_content_uid, to_content_uid, min_steps:int=3, max_steps:int=10, decay_rate:float=0.2) -> float:      \n",
                "    count=1\n",
                "    acc=0.0\n",
                "    try:\n",
                "        shortest_path_cyper = \"\"\"\n",
                "            MATCH path=shortestPath((s)-[*..{max_steps}]-(e))\n",
                "            WHERE s.uid='{start_id}'\n",
                "            AND e.uid='{end_id}'\n",
                "            AND NONE(n IN nodes(path) WHERE 'Recommendation' IN LABELS(n))\n",
                "            AND NONE(n IN nodes(path) WHERE 'Tldr' IN LABELS(n))\n",
                "            AND NONE(n IN nodes(path) WHERE 'Summary' IN LABELS(n))\n",
                "            AND NONE(n IN nodes(path) WHERE 'Feedback' IN LABELS(n))\n",
                "            AND NONE(n IN nodes(path) WHERE 'Source' IN LABELS(n))           \n",
                "            AND NONE(n IN nodes(path) WHERE 'User' IN LABELS(n))\n",
                "            AND NONE(n IN nodes(path) WHERE 'EvalKey' IN LABELS(n))\n",
                "            AND NONE(n IN nodes(path) WHERE 'Similarity' IN LABELS(n))\n",
                "            RETURN path\n",
                "            \"\"\".format(start_id=from_content_uid, end_id=to_content_uid, max_steps=max_steps)\n",
                "\n",
                "        q = kg.neomodel_query(shortest_path_cyper)\n",
                "        path=q[0][0][0]\n",
                "        #TEMP\n",
                "        #print(\"shortest path was {} nodes\".format(len(path.nodes)))\n",
                "        acc = 1.0-((len(path.nodes)-min_steps)*decay_rate)\n",
                "    except Exception as e:\n",
                "        #print(e)\n",
                "        pass # no path remains 0.0\n",
                "\n",
                "    if acc <= 0.0:\n",
                "        return 0.0;\n",
                "\n",
                "    return acc"
            ]
        },
        {
            "cell_type": "markdown",
            "id": "f6915dd0",
            "metadata": {},
            "source": [
                "### Build KRAG similarity relationships using TextChunk\n",
                "Note: this is pretty slow because it averages the pairwise shortest paths between all text chunks stemming from a document (alot of them)"
            ]
        },
        {
            "cell_type": "code",
            "execution_count": null,
            "id": "b2b6f4a1",
            "metadata": {},
            "outputs": [],
            "source": [
                "def get_uid_of_textchunks_from_content(kg, content_uid:str) -> list[str]:\n",
                "    return kg.cypher_query('''\n",
                "            MATCH (c:Content) where c.uid=\"{content_uid}\"\n",
                "            MATCH (p:TechnicalPaper)\n",
                "            MATCH (s:Section)\n",
                "            MATCH (t:TextChunk)\n",
                "            MATCH (c)<-[:Enriches]-(p)-[:CONTAINS]->(s)-[:CONTAINS]->(t)\n",
                "            RETURN t.uid '''.format(content_uid=content_uid))"
            ]
        },
        {
            "cell_type": "code",
            "execution_count": null,
            "id": "8a191f49",
            "metadata": {},
            "outputs": [],
            "source": [
                "def krag_create_by_textchunk(kg:KnowledgeGraph, new_uids:list[str], previous_uids:list[str], threshold:float=0.0):\n",
                "    unique_uids = []\n",
                "    for from_content_uid in new_uids:\n",
                "        from_content_node = kg.get_content_by_uid(from_content_uid)\n",
                "        print(\"FROM: {}\".format(from_content_node.title.replace(\"\\n\",\"\")))\n",
                "        unique_uids.append(from_content_uid)\n",
                "        sim_counts=0\n",
                "        \n",
                "        from_textchunks_uids = get_uid_of_textchunks_from_content(kg,from_content_uid)\n",
                "        if from_textchunks_uids is None:\n",
                "            print (\"No Text Chunks in Content: {}\".format(from_content_uid))\n",
                "            continue\n",
                "\n",
                "        for to_content_uid in new_uids + prev_uids:\n",
                "            if to_content_uid not in unique_uids:\n",
                "                to_content_node = kg.get_by_uid(to_content_uid)\n",
                "                to_textchunks_uids = get_uid_of_textchunks_from_content(kg,to_content_uid)\n",
                "\n",
                "                count=0\n",
                "                acc = 0.0\n",
                "                max_score = 0.0\n",
                "\n",
                "                for from_textchunk_uid in from_textchunks_uids:\n",
                "                    for to_textchunk_uid in to_textchunks_uids:\n",
                "                        count=count+1\n",
                "                        score = get_score(kg, from_textchunk_uid, to_textchunk_uid, min_steps=3, max_steps=8, decay_rate=0.2)\n",
                "                        #print(\"score: {} \\t {} -> {}\".format(score,from_textchunk_uid,to_textchunk_uid))\n",
                "                        acc += score\n",
                "                        if score > max_score:\n",
                "                            max_score = score\n",
                "\n",
                "                avg_score = acc / count\n",
                "                \n",
                "                #score = max_score\n",
                "                score = avg_score\n",
                "\n",
                "                if score >= threshold:\n",
                "                    print(\"\\tTO ({:.3f}): {}\".format(score,to_content_node.title.replace(\"\\n\",\"\")))\n",
                "                    sim_counts+=1\n",
                "                    sim_node = Similarity()\n",
                "                    sim_node.score=score\n",
                "                    sim_node.save()\n",
                "                    sim_node.similar_to.connect(from_content_node)\n",
                "                    sim_node.similar_to.connect(to_content_node)\n",
                "\n",
                "        #print(\"To {} other nodes.\".format(sim_counts))\n"
            ]
        },
        {
            "cell_type": "markdown",
            "id": "8581418b",
            "metadata": {},
            "source": [
                "### Build KRAG similarities from Sections\n",
                "Note: this essentially uses the best textchunks for each section instead of pairwise text chunks. It still does a pairwise comparison of Sections, but there are many fewer of those than textchunks."
            ]
        },
        {
            "cell_type": "code",
            "execution_count": null,
            "id": "b312af3e",
            "metadata": {},
            "outputs": [],
            "source": [
                "def get_uid_of_sections_from_content(kg, content_uid:str) -> list[str]:\n",
                "    return kg.cypher_query('''\n",
                "            MATCH (c:Content) where c.uid=\"{content_uid}\"\n",
                "            MATCH (p:TechnicalPaper)\n",
                "            MATCH (s:Section)\n",
                "            MATCH (c)<-[:Enriches]-(p)-[:CONTAINS]->(s)\n",
                "            RETURN s.uid '''.format(content_uid=content_uid))"
            ]
        },
        {
            "cell_type": "code",
            "execution_count": null,
            "id": "b337c620",
            "metadata": {},
            "outputs": [],
            "source": [
                "def krag_create_by_section(kg:KnowledgeGraph, new_uids:list[str], previous_uids:list[str], threshold:float=0.0):\n",
                "    unique_uids = []\n",
                "    for from_content_uid in new_uids:\n",
                "        from_content_node = kg.get_content_by_uid(from_content_uid)\n",
                "        print(\"FROM: {}\".format(from_content_node.title.replace(\"\\n\",\"\")))\n",
                "        unique_uids.append(from_content_uid)\n",
                "        sim_counts=0\n",
                "        \n",
                "        from_section_uids = get_uid_of_sections_from_content(kg,from_content_uid)\n",
                "        if from_section_uids is None:\n",
                "            print (\"No Sections in Content: {}\".format(from_content_uid))\n",
                "            continue\n",
                "\n",
                "        for to_content_uid in new_uids + prev_uids:\n",
                "            if to_content_uid not in unique_uids:\n",
                "                to_content_node = kg.get_by_uid(to_content_uid)\n",
                "                to_section_uids = get_uid_of_sections_from_content(kg,to_content_uid)\n",
                "\n",
                "                count=0\n",
                "                acc = 0.0\n",
                "                max_score = 0.0\n",
                "\n",
                "                for from_section_uid in from_section_uids:\n",
                "                    for to_section_uid in to_section_uids:\n",
                "                        count=count+1\n",
                "                        score = get_score(kg, from_section_uid, to_section_uid, min_steps=4, max_steps=10, decay_rate=0.2)\n",
                "                        #print(\"score: {} \\t {} -> {}\".format(score,from_section_uid,to_section_uid))\n",
                "                        acc += score\n",
                "                        if score > max_score:\n",
                "                            max_score = score\n",
                "\n",
                "                avg_score = acc / count\n",
                "                \n",
                "                #score = max_score\n",
                "                score = avg_score\n",
                "\n",
                "                if score >= threshold:\n",
                "                    print(\"\\tTO ({:.3f}): {}\".format(score,to_content_node.title.replace(\"\\n\",\"\")))\n",
                "                    sim_counts+=1\n",
                "                    sim_node = Similarity()\n",
                "                    sim_node.score=score\n",
                "                    sim_node.save()\n",
                "                    sim_node.similar_to.connect(from_content_node)\n",
                "                    sim_node.similar_to.connect(to_content_node)\n",
                "    \n",
                "        print(\"\\n\")\n",
                "        #print(\"To {} other nodes.\".format(sim_counts))\n"
            ]
        },
        {
            "cell_type": "code",
            "execution_count": null,
            "id": "17c127b7",
            "metadata": {},
            "outputs": [],
            "source": [
                "#krag_create_by_textchunk(kg,new_uids,prev_uids,threshold=similarity_threshold)\n",
                "krag_create_by_section(kg,new_uids,prev_uids,threshold=similarity_threshold)"
            ]
        },
        {
            "cell_type": "markdown",
            "id": "3842f90e",
            "metadata": {},
            "source": [
                "## KRAG Query\n"
            ]
        },
        {
            "cell_type": "code",
            "execution_count": null,
            "id": "ac5e53cf",
            "metadata": {},
            "outputs": [],
            "source": [
                "def krag_query(kg:KnowledgeGraph, content_node:Content, limit:int=-1) -> list[Enrichment]:\n",
                "    limit_clause = \"\"\n",
                "    if limit>0:\n",
                "        limit_clause = \" LIMIT {} \".format(limit)\n",
                "\n",
                "    return kg.cypher_query(\"\"\"\n",
                "        MATCH (q:Content) WHERE q.uid=\"{uid_id}\"\n",
                "        MATCH (r:Content)\n",
                "        MATCH (s:Similarity)\n",
                "        MATCH (q)<-[x:SIMILAR_TO]-(s)-[y:SIMILAR_TO]->(r)\n",
                "        RETURN r ORDER BY s.score DESC {limit_clause} \"\"\".format(uid_id=content_node.uid, limit_clause=limit_clause))"
            ]
        },
        {
            "cell_type": "code",
            "execution_count": null,
            "id": "afdcb3de",
            "metadata": {},
            "outputs": [],
            "source": [
                "def krag_query_and_print(kg:KnowledgeGraph, content_node:Content, limit:int=-1) -> list[Enrichment]:\n",
                "    limit_clause = \"\"\n",
                "    if limit>0:\n",
                "        limit_clause = \" LIMIT {} \".format(limit)\n",
                "\n",
                "    for uid in kg.cypher_query(\"\"\"\n",
                "        MATCH (q:Content) WHERE q.uid=\"{uid_id}\"\n",
                "        MATCH (r:Content)\n",
                "        MATCH (s:Similarity)\n",
                "        MATCH (q)<-[x:SIMILAR_TO]-(s)-[y:SIMILAR_TO]->(r)\n",
                "        RETURN s.uid ORDER BY s.score DESC {limit_clause} \"\"\".format(uid_id=content_node.uid, limit_clause=limit_clause)):\n",
                "        sim_node = kg.get_by_uid(uid)\n",
                "        print(\"-> {}\".format(sim_node.to_text()))"
            ]
        },
        {
            "cell_type": "code",
            "execution_count": null,
            "id": "77687089",
            "metadata": {},
            "outputs": [],
            "source": [
                "for uid in new_uids:\n",
                "    content_node=kg.get_content_by_uid(uid)\n",
                "    print (\"Query: {}\".format(content_node.title.replace(\"\\n\",\"\")))\n",
                "\n",
                "    krag_query_and_print(kg, content_node,3)\n",
                "\n",
                "#    for other in krag_query(kg,content_node,5):\n",
                "#        print(\"\\t-> {}\".format(other.title.replace(\"\\n\",\"\")))"
            ]
        },
        {
            "attachments": {},
            "cell_type": "markdown",
            "id": "5950fae0",
            "metadata": {},
            "source": [
                "#  Close the KG"
            ]
        },
        {
            "cell_type": "code",
            "execution_count": null,
            "id": "902fe103-5cd3-454b-8084-f6b2b6ff92b1",
            "metadata": {},
            "outputs": [],
            "source": [
                "kg.close()"
            ]
        }
    ],
    "metadata": {
        "kernelspec": {
            "display_name": "opentldr-env",
            "language": "python",
            "name": "python3"
        },
        "language_info": {
            "codemirror_mode": {
                "name": "ipython",
                "version": 3
            },
            "file_extension": ".py",
            "mimetype": "text/x-python",
            "name": "python",
            "nbconvert_exporter": "python",
            "pygments_lexer": "ipython3",
            "version": "3.12.9"
        }
    },
    "nbformat": 4,
    "nbformat_minor": 5
}