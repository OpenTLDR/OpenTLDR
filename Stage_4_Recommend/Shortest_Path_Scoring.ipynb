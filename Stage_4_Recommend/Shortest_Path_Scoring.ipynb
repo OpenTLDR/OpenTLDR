{
    "cells": [
        {
            "attachments": {},
            "cell_type": "markdown",
            "id": "b29b70f4-f7b6-48bb-ac19-a75a58504fbc",
            "metadata": {
                "tags": []
            },
            "source": [
                "# Stage 4: Recommendations using Shortest Pathes to Compute Relevance Between Requests and Articles\n",
                "Attempts to determine how relevent each Content node is to each Request node and builds Recommendation nodes to store that score for highly rated relevance.\n",
                "\n",
                "The result of this step includes:\n",
                "- Recommendation nodes, connected to Content nodes with a RECOMMENDS, and Request nodes with a RELATES_TO relationship"
            ]
        },
        {
            "cell_type": "code",
            "execution_count": null,
            "id": "556dd7c0",
            "metadata": {},
            "outputs": [],
            "source": [
                "import logging"
            ]
        },
        {
            "cell_type": "markdown",
            "id": "967df770",
            "metadata": {},
            "source": [
                "## Parameters\n",
                "OpenTLDR workflows use the notebook block tagged as \"parameters\" to inject variables (for example to change the recommendation thresholds).\n",
                "\n",
                "> **Do Not Change Variable Names in the Parameters Block** you are welcome to change the values of these parameter variables, but please do not change their names. They are used elsewhere in the notebook and in other workflow processes."
            ]
        },
        {
            "cell_type": "code",
            "execution_count": null,
            "id": "0567be2e",
            "metadata": {
                "tags": [
                    "parameters"
                ]
            },
            "outputs": [],
            "source": [
                "#Parameters\n",
                "recommendation_threshold = 0.75\n",
                "\n",
                "delete_existing_recommendations = True\n",
                "\n",
                "# Logging level ranges are (from least to most verbose): ERROR, WARN, INFO, DEBUG\n",
                "logging_level = logging.INFO\n",
                "\n",
                "# List of the UserIdqs to Ingest\n",
                "list_of_uids = None\n",
                "\n",
                "# level of unnecessary output\n",
                "verbose = True\n"
            ]
        },
        {
            "cell_type": "markdown",
            "id": "cde082e8",
            "metadata": {},
            "source": [
                "## Setup"
            ]
        },
        {
            "cell_type": "code",
            "execution_count": null,
            "id": "96e7cb0d",
            "metadata": {},
            "outputs": [],
            "source": [
                "logging.getLogger(\"OpenTLDR\").setLevel(logging_level)\n",
                "\n",
                "import opentldr.Domain as domain\n",
                "from opentldr.Domain import Request, Content, Recommendation\n",
                "\n",
                "from opentldr import KnowledgeGraph\n",
                "kg=KnowledgeGraph()\n",
                "\n"
            ]
        },
        {
            "cell_type": "code",
            "execution_count": null,
            "id": "659dcb3e",
            "metadata": {},
            "outputs": [],
            "source": [
                "if list_of_uids is None:\n",
                "    list_of_uids = kg.get_all_node_uids_by_tag('Request')\n",
                "\n",
                "if verbose:\n",
                "    print(\"Found {} Request nodes to process.\".format(len(list_of_uids)))"
            ]
        },
        {
            "attachments": {},
            "cell_type": "markdown",
            "id": "b703cea8",
            "metadata": {},
            "source": [
                "# Recommend Contents based on their relationships thru the KG to the Request\n",
                "Relevance is scored to include:\n",
                "- The distance of the node, thru the KG from the request\n",
                "- With an integrated penelty for uncertainty in relationships\n",
                "- The average relevance of a nodes neighbors"
            ]
        },
        {
            "attachments": {},
            "cell_type": "markdown",
            "id": "2075c130",
            "metadata": {},
            "source": [
                "### Average the distance relevance scores for each Article based on its neighbors "
            ]
        },
        {
            "cell_type": "code",
            "execution_count": null,
            "id": "53690c4a",
            "metadata": {},
            "outputs": [],
            "source": [
                "shortest_path_cypher = \"\"\"\n",
                "            MATCH path=shortestPath((s)-[*..10]-(e))\n",
                "            WHERE s.uid='{start_id}'\n",
                "            AND e.uid='{end_id}'                         \n",
                "            AND NONE(n IN nodes(path) WHERE 'Recommendation' IN LABELS(n))\n",
                "            AND NONE(n IN nodes(path) WHERE 'Tldr' IN LABELS(n))\n",
                "            AND NONE(n IN nodes(path) WHERE 'Recommendation' IN LABELS(n))\n",
                "            AND NONE(n IN nodes(path) WHERE 'Summary' IN LABELS(n))\n",
                "            AND NONE(n IN nodes(path) WHERE 'Feedback' IN LABELS(n))\n",
                "            AND NONE(n IN nodes(path) WHERE 'Source' IN LABELS(n))\n",
                "            AND NONE(n IN nodes(path) WHERE 'Request' IN LABELS(n) AND n.uid<>\"{start_id}\")             \n",
                "            AND NONE(n IN nodes(path) WHERE 'Content' IN LABELS(n) AND n.uid<>\"{end_id}\")             \n",
                "            AND NONE(n IN nodes(path) WHERE 'User' IN LABELS(n))\n",
                "            AND NONE(n IN nodes(path) WHERE 'EvalKey' IN LABELS(n))\n",
                "            AND NONE(n IN nodes(path) WHERE 'Similarity' IN LABELS(n))\n",
                "            RETURN path\n",
                "            \"\"\"\n",
                "\n",
                "def get_recommendation_score(kg:KnowledgeGraph, request:Request, content_uid:str, shortest_path_cypher:str=shortest_path_cypher) -> float:\n",
                "    count=1\n",
                "    acc=0.0\n",
                "    decay_rate=0.2\n",
                "\n",
                "    try:\n",
                "        q = kg.neomodel_query(shortest_path_cypher.format(start_id=request.uid, end_id=content_uid))\n",
                "        path=q[0][0][0]\n",
                "        acc = 1.0-((len(path.nodes)-5)*decay_rate)\n",
                "    except:\n",
                "        pass # no path remains 0.0\n",
                "\n",
                "    if acc <= 0.0:\n",
                "        return 0.0;\n",
                "\n",
                "    for e in kg.get_entities_by_request(request):\n",
                "        count+=1\n",
                "        try:\n",
                "            q = kg.neomodel_query(shortest_path_cypher.format(start_id=e.uid, end_id=content_uid))\n",
                "            path=q[0][0][0]\n",
                "            acc+= 1.0-((len(path.nodes)-4)*decay_rate)\n",
                "        except:\n",
                "            pass # no addition if no path found\n",
                "\n",
                "    out = round(acc/count,3)\n",
                "    \n",
                "    if out > 1.0:\n",
                "        return 1.0\n",
                "    \n",
                "    return out"
            ]
        },
        {
            "attachments": {},
            "cell_type": "markdown",
            "id": "5950fae0",
            "metadata": {},
            "source": [
                "# Process Each Query in the System"
            ]
        },
        {
            "cell_type": "code",
            "execution_count": null,
            "id": "8fad3452",
            "metadata": {},
            "outputs": [],
            "source": [
                "if delete_existing_recommendations:\n",
                "    kg.delete_all_recommendations()"
            ]
        },
        {
            "cell_type": "code",
            "execution_count": null,
            "id": "df205fcf",
            "metadata": {},
            "outputs": [],
            "source": [
                "def average_content(distance_scores:dict):\n",
                "    avg_scores=dict()\n",
                "    all_content = kg.get_all_content()\n",
                "    for article in all_content:\n",
                "        acc=distance_scores.get(str(article.uid),0.0);\n",
                "        count=1\n",
                "        if acc > 0.0:\n",
                "            for e in kg.get_entities_by_content(article):\n",
                "                acc+=distance_scores.get(str(e.uid),0.0)\n",
                "                count+=1\n",
                "        avg_scores[str(article.uid)]=round(acc/count,3)\n",
                "    return avg_scores"
            ]
        },
        {
            "cell_type": "code",
            "execution_count": null,
            "id": "ebbf4836",
            "metadata": {},
            "outputs": [],
            "source": [
                "from opentldr.Domain import Recommendation, Request, Content\n",
                "\n",
                "content_uids = kg.get_all_node_uids_by_tag('Content')\n",
                "\n",
                "for uid in list_of_uids:\n",
                "    request = kg.get_request_by_uid(uid)\n",
                "    print(\"\\nRequest: (\"+request.title+\"): \"+request.text)\n",
                "\n",
                "    content_scores=dict()\n",
                "    for content_uid in content_uids:\n",
                "        content_scores[content_uid]= get_recommendation_score(kg, request, content_uid) \n",
                "    \n",
                "    sorted_recommendations=sorted(content_scores.items(), key=lambda x:x[1], reverse=True)\n",
                "    for art_item in sorted_recommendations:\n",
                "        recommendation_score=art_item[1]\n",
                "        content = kg.get_content_by_uid(art_item[0])\n",
                "\n",
                "        if recommendation_score > recommendation_threshold:\n",
                "            print(\"\\tRecommending:\\t\"+ content.title +\" (\"+str(recommendation_score)+\") \")\n",
                "            kg.add_recommendation(request=request,content=content,score=recommendation_score)\n",
                "        elif verbose:\n",
                "            print(\"\\tNOT Recommending:\\t\"+ content.title +\" (\"+str(recommendation_score)+\") \")\n"
            ]
        },
        {
            "cell_type": "code",
            "execution_count": null,
            "id": "902fe103-5cd3-454b-8084-f6b2b6ff92b1",
            "metadata": {},
            "outputs": [],
            "source": [
                "kg.close()"
            ]
        }
    ],
    "metadata": {
        "kernelspec": {
            "display_name": "opentldr-env",
            "language": "python",
            "name": "python3"
        },
        "language_info": {
            "codemirror_mode": {
                "name": "ipython",
                "version": 3
            },
            "file_extension": ".py",
            "mimetype": "text/x-python",
            "name": "python",
            "nbconvert_exporter": "python",
            "pygments_lexer": "ipython3",
            "version": "3.10.9"
        }
    },
    "nbformat": 4,
    "nbformat_minor": 5
}