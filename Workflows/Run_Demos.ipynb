{
    "cells": [
        {
            "cell_type": "code",
            "execution_count": null,
            "metadata": {},
            "outputs": [],
            "source": [
                "from opentldr import Workflow"
            ]
        },
        {
            "cell_type": "markdown",
            "metadata": {},
            "source": [
                "## Run Demo Workflow\n",
                "\n",
                "- **Output**: the directory that the workflow writes copies of the notebooks as executed (read only!)\n",
                "- **Notebooks**: this is a list of notebooks (full path) in the order that they should be executed\n",
                "    - For each notebook the set of parameters that are to be passed into it thru the workflow process"
            ]
        },
        {
            "cell_type": "code",
            "execution_count": null,
            "metadata": {},
            "outputs": [],
            "source": [
                "demo_workflow = {\n",
                "    \n",
                "    # Where a read-only version of the notebook AFTER execution is stored\n",
                "    \"Output\": \"./READ_ONLY_OUTPUT\",\n",
                "    \n",
                "    # Parameters passed into all notebooks in workflow\n",
                "    \"Common\": {\n",
                "        \"logging_level\":10,\n",
                "        \"verbose\": True,\n",
                "    },\n",
                "\n",
                "    # Order and parameters of notebooks to execute in workflow\n",
                "    \"Notebooks\": [\n",
                "\n",
                "        # Passing Parameters from a Workflow into a Notebook\n",
                "        [ \"Workflow_Parameters/Passing_Parameters.ipynb\", {\n",
                "            \"message\": \"Successfully passed in parameters from Workflow.ipynb!\",\n",
                "        }],\n",
                "\n",
                "       \n",
                "    ]}"
            ]
        },
        {
            "cell_type": "markdown",
            "metadata": {},
            "source": [
                "### Execute the workflow defined above"
            ]
        },
        {
            "cell_type": "code",
            "execution_count": null,
            "metadata": {},
            "outputs": [],
            "source": [
                "wf = Workflow(demo_workflow)\n",
                "wf.run()"
            ]
        }
    ],
    "metadata": {
        "kernelspec": {
            "display_name": "opentldr-env",
            "language": "python",
            "name": "python3"
        },
        "language_info": {
            "codemirror_mode": {
                "name": "ipython",
                "version": 3
            },
            "file_extension": ".py",
            "mimetype": "text/x-python",
            "name": "python",
            "nbconvert_exporter": "python",
            "pygments_lexer": "ipython3",
            "version": "3.10.9"
        }
    },
    "nbformat": 4,
    "nbformat_minor": 2
}