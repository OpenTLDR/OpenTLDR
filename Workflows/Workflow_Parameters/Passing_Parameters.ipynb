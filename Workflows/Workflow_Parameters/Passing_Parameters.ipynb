{
    "cells": [
        {
            "attachments": {},
            "cell_type": "markdown",
            "id": "22652f6a-3d56-4a25-9c2c-7d149882e084",
            "metadata": {},
            "source": [
                "# Demo Parameters\n",
                "\n",
                "This notebook shows the effect of changing parameters, it has no effect on the Knowledge Graph.\n",
                "\n",
                "The result of this Notebooks will be:\n",
                "- printing a statement - either the default (set in this file) or as passed to it from a workflow."
            ]
        },
        {
            "cell_type": "markdown",
            "id": "8fd1f6a1",
            "metadata": {},
            "source": [
                "### Parameters can be passed into the Notebook from an OpenTLDR Workflow\n",
                "OpenTLDR workflows use the notebook block tagged as \"parameters\" to inject variables (for example to redirect the source of content).\n",
                "\n",
                "> **Changing Variable Names in the Parameters Block** you are welcome to change the values of these parameter variables, but if you change their names, be aware they are used elsewhere in the notebook and in other workflow stages."
            ]
        },
        {
            "cell_type": "code",
            "execution_count": null,
            "id": "4e2006b6",
            "metadata": {
                "tags": [
                    "parameters"
                ]
            },
            "outputs": [],
            "source": [
                "# Workflow Parameters - these may be overridden by the Workflow\n",
                "\n",
                "message = \"Using default values in the Notebooks 'parameters' block.\"\n",
                "\n"
            ]
        },
        {
            "cell_type": "markdown",
            "id": "e4d34154",
            "metadata": {},
            "source": [
                "## Example of Parameter passing in Action:\n",
                "Let's verify that the parameters are working as expected. Note that the verbose parameter must be set to True for this to print anything.\n",
                "\n",
                "If you are running this notebook directly, you should see the value set in the above cell (which is tagged 'parameters'), by default that is: \n",
                "<pre>Using default values in the Notebooks 'parameters' block.</pre>\n",
                "\n",
                "If you are running this notebook thru the default workflow, then you will be looking at the READ ONLY outputed notebooks (by default this is stored in the \"./READ_ONLY_OUTPUT\" folder) and you should see the value set in the Workflow.ipynb notebook, by default that is: \n",
                "<pre>Successfully passed in parameters from Workflow.ipynb!</pre>\n",
                "\n",
                "If you see nothing below, then you likely have verbose set to False. It must be set to True to get to the print statement below..."
            ]
        },
        {
            "cell_type": "code",
            "execution_count": null,
            "id": "c311355d",
            "metadata": {},
            "outputs": [],
            "source": [
                "print(message)"
            ]
        }
    ],
    "metadata": {
        "kernelspec": {
            "display_name": "opentldr-env",
            "language": "python",
            "name": "python3"
        },
        "language_info": {
            "codemirror_mode": {
                "name": "ipython",
                "version": 3
            },
            "file_extension": ".py",
            "mimetype": "text/x-python",
            "name": "python",
            "nbconvert_exporter": "python",
            "pygments_lexer": "ipython3",
            "version": "3.10.9"
        }
    },
    "nbformat": 4,
    "nbformat_minor": 5
}