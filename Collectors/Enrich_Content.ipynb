{
    "cells": [
        {
            "cell_type": "markdown",
            "metadata": {},
            "source": [
                "# Enrich Content\n"
            ]
        },
        {
            "cell_type": "code",
            "execution_count": null,
            "metadata": {},
            "outputs": [],
            "source": [
                "import logging\n",
                "import os\n",
                "from datetime import date\n",
                "\n",
                "from dotenv import load_dotenv\n",
                "load_dotenv()"
            ]
        },
        {
            "cell_type": "markdown",
            "metadata": {},
            "source": [
                "## Parameters"
            ]
        },
        {
            "cell_type": "code",
            "execution_count": null,
            "metadata": {
                "tags": [
                    "parameters"
                ]
            },
            "outputs": [],
            "source": [
                "#Parameters\n",
                "\n",
                "# where updated data exists\n",
                "live_data_repo_path = os.getenv('LIVE_DATA_REPO_PATH')\n",
                "media_cache_path = os.getenv('MEDIA_CACHE_PATH')\n",
                "\n",
                "live = False\n",
                "today = str(date.today())\n",
                "\n",
                "data_repo_config = {'repo_type': 'files','path': os.path.join(live_data_repo_path,\"arxiv\",today)}\n",
                "data_repo_config = {'repo_type': 'files','path': live_data_repo_path}\n",
                "data_repo_config = None\n",
                "\n",
                "# Logging level ranges are (from least to most verbose): ERROR, WARN, INFO, DEBUG\n",
                "logging_level = logging.INFO\n",
                "\n",
                "# List of the UserIdqs to Ingest\n",
                "list_of_uids = None\n",
                "\n",
                "# level of unnecessary output\n",
                "verbose = True\n"
            ]
        },
        {
            "cell_type": "markdown",
            "metadata": {},
            "source": [
                "## Setup"
            ]
        },
        {
            "cell_type": "code",
            "execution_count": null,
            "metadata": {},
            "outputs": [],
            "source": [
                "logging.getLogger(\"OpenTLDR\").setLevel(logging_level)\n",
                "\n",
                "from opentldr.Domain import Content\n",
                "from opentldr.ContentEnrichment import *\n",
                "from opentldr import KnowledgeGraph, DataRepo\n",
                "\n",
                "kg=KnowledgeGraph()\n"
            ]
        },
        {
            "cell_type": "code",
            "execution_count": null,
            "metadata": {},
            "outputs": [],
            "source": [
                "if data_repo_config is not None:\n",
                "    repo = DataRepo(kg,data_repo_config)\n",
                "\n",
                "    if verbose:\n",
                "        print(\"Loading Content from: {}\".format(repo.describe()))\n",
                "\n",
                "    list_of_uids = repo.importData()\n",
                "    print(\"Loaded {count} articles from the repository.\".format(count=len(list_of_uids)))\n",
                "\n",
                "else:\n",
                "    print(\"No Data Repo configured, will attempt to enrich all existing Content nodes in KG.\")"
            ]
        },
        {
            "cell_type": "code",
            "execution_count": null,
            "metadata": {},
            "outputs": [],
            "source": [
                "if list_of_uids is None:\n",
                "    list_of_uids=kg.get_all_node_uids_by_tag('Content')\n",
                "\n",
                "if verbose:\n",
                "    print(\"Found {} Request nodes to process.\".format(len(list_of_uids)))"
            ]
        },
        {
            "cell_type": "markdown",
            "metadata": {},
            "source": [
                "## Newer Version"
            ]
        },
        {
            "cell_type": "code",
            "execution_count": null,
            "metadata": {},
            "outputs": [],
            "source": [
                "from opentldr.Domain import Content\n",
                "from EnrichedPdf import EnrichedPdf\n",
                "\n",
                "use_html = False\n",
                "cache_full_content = False\n",
                "\n",
                "content_uids = kg.get_all_node_uids_by_tag('Content')\n",
                "\n",
                "for uid in list_of_uids:\n",
                "    try:\n",
                "        content_node = kg.get_content_by_uid(uid)\n",
                "        if content_node.type == 'technical paper':   # This is set in the update when content is added to the repo\n",
                "            print (\"Found Repo#{} entitled: {}\".format(content_node.metadata[\"repo_uid\"],content_node.title))\n",
                "\n",
                "            e = EnrichedPdf(kg,content_node, media_cache_path)\n",
                "            e.process()\n",
                "            \n",
                "            print (\"Processed into KG off Content Node: {}\".format(content_node.uid))\n",
                "\n",
                "    except Exception as e:\n",
                "        print (\"Error: {}\".format(repr(e)))\n"
            ]
        },
        {
            "cell_type": "code",
            "execution_count": null,
            "metadata": {},
            "outputs": [],
            "source": [
                "# NOT USED RIGHT NOW\n",
                "\n",
                "def get_html_content(content:Content) -> TechnicalPaper:\n",
                "    html_text = None\n",
                "    try:\n",
                "        media_file = \"{}.html\".format(content.metadata[\"repo_uid\"])\n",
                "        media_path = os.path.join(data_repo_config[\"path\"],content.date,\"media\",media_file)\n",
                "        if os.path.exists(media_path):\n",
                "            with open(media_path, 'r') as file:\n",
                "                html_text = process_text(file.read())\n",
                "                if \"reCAPTCHA\" in html_text or \"HTML is not available for the source.\" in html_text:\n",
                "                    html_text=None\n",
                "                    content.metadata['full_content_html']=None\n",
                "                    content.save()\n",
                "                    raise Exception(\"Hit reCAPTCHA or missing file\")\n",
                "            print (\"Loaded {n} lines from file: {file}\".format(file=media_path,n=len(html_text)))\n",
                "    except Exception as e:\n",
                "        print(\"Failed to load cached document: {}\".format(repr(e)))\n",
                "        \n",
                "        if \"full_content_html\" in content.metadata:\n",
                "            html_text = process_text(str(fetch_html(content.metadata[\"full_content_html\"])))\n",
                "            if \"reCAPTCHA\" in html_text or \"HTML is not available for the source.\" in html_text:\n",
                "                content.metadata['full_content_html']=None\n",
                "                content.save()\n",
                "                return None\n",
                "            if verbose:\n",
                "                print (\"Loaded {n} lines from URL: {url}\".format(url=content.url,n=len(html_text)))\n",
                "        else:\n",
                "            return None\n",
                "    \n",
                "\n",
                "    #if cache_full_content:\n",
                "    #    file_name = os.path.join(\"./TEMP_HTML\",\"{}.txt\".format(content.metadata[\"repo_uid\"]))\n",
                "    #    with open(file_name, 'w') as f:\n",
                "    #        f.write(html_text)\n",
                "\n",
                "    return html_text\n"
            ]
        }
    ],
    "metadata": {
        "kernelspec": {
            "display_name": "opentldr-env",
            "language": "python",
            "name": "python3"
        },
        "language_info": {
            "codemirror_mode": {
                "name": "ipython",
                "version": 3
            },
            "file_extension": ".py",
            "mimetype": "text/x-python",
            "name": "python",
            "nbconvert_exporter": "python",
            "pygments_lexer": "ipython3",
            "version": "3.10.9"
        }
    },
    "nbformat": 4,
    "nbformat_minor": 2
}