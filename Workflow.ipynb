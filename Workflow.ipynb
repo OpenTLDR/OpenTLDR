{
    "cells": [
        {
            "cell_type": "code",
            "execution_count": null,
            "metadata": {},
            "outputs": [],
            "source": [
                "from opentldr import Workflow"
            ]
        },
        {
            "cell_type": "markdown",
            "metadata": {},
            "source": [
                "## Specify the Workflow in code\n",
                "The workflow includes:\n",
                "- **Output**: the directory that the workflow writes copies of the notebooks as executed (read only!)\n",
                "- **Notebooks**: this is a list of notebooks (full path) in the order that they should be executed\n",
                "    - For each notebook the set of parameters that are to be passed into it thru the workflow process"
            ]
        },
        {
            "cell_type": "code",
            "execution_count": null,
            "metadata": {},
            "outputs": [],
            "source": [
                "workflow = {\n",
                "    \"Output\": \"./READ_ONLY_OUTPUT\",\n",
                "    \"Notebooks\": [\n",
                "        [\"Step_0_Initialize.ipynb\",{\n",
                "            \"message\": \"Successfully passed in parameters from Workflow.ipynb!\",\n",
                "            \"ref_date_repo_config\": {'repo_type': 'files', 'path': './sample_data/reference'},\n",
                "            \"clean_policy\":\"fresh\"\n",
                "            }],\n",
                "        [\"Step_1_Ingest.ipynb\", {\n",
                "            \"active_date_repo_config\": {'repo_type': 'files', 'path': './sample_data/content'},\n",
                "            }],\n",
                "        [\"Step_1a_MockUI.ipynb\",{\n",
                "            \"request_date_repo_config\": {'repo_type': 'files', 'path': './sample_data/request'},\n",
                "            }],\n",
                "        [\"Step_2_Connect.ipynb\",{\n",
                "            \"sentence_embedding_model\": \"sentence-transformers/all-MiniLM-L6-v2\",\n",
                "            \"threshold_similarity_connect\": 0.5,\n",
                "            \"threshold_similarity_hypothesize\": 0.8\n",
                "            }],\n",
                "        [\"Step_3_Recommend.ipynb\",{\n",
                "            \"recommendation_threshold\": 0.54\n",
                "        }],\n",
                "        [\"Step_4_Summarize.ipynb\",{\n",
                "            \"llm_model_path\": \"./models/mistral-7b-openorca.gguf2.Q4_0.gguf\",\n",
                "            \"llm_prompt\": \"Given these facts: {knowledge} and the request: {request}. Concisely summarize this article: {content}\"\n",
                "            }],\n",
                "        [\"Step_5_Produce.ipynb\",{}],\n",
                "        [\"Step_6_Evaluate.ipynb\",{\n",
                "            \"eval_data_repo_config\": {'repo_type': 'files', 'path': './sample_data/evalkey'},\n",
                "            \"sentence_embedding_model\": \"sentence-transformers/all-MiniLM-L6-v2\"\n",
                "            }]\n",
                "    ]}"
            ]
        },
        {
            "cell_type": "code",
            "execution_count": null,
            "metadata": {},
            "outputs": [],
            "source": [
                "wf:Workflow = Workflow(workflow)\n",
                "wf.run()"
            ]
        }
    ],
    "metadata": {
        "kernelspec": {
            "display_name": "opentldr-env",
            "language": "python",
            "name": "python3"
        },
        "language_info": {
            "codemirror_mode": {
                "name": "ipython",
                "version": 3
            },
            "file_extension": ".py",
            "mimetype": "text/x-python",
            "name": "python",
            "nbconvert_exporter": "python",
            "pygments_lexer": "ipython3",
            "version": "3.10.9"
        }
    },
    "nbformat": 4,
    "nbformat_minor": 4
}